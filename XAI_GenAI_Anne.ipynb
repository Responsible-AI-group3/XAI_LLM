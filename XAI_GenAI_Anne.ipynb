{
 "cells": [
  {
   "cell_type": "markdown",
   "metadata": {},
   "source": [
    "# Responsible AI: XAI GenAI project"
   ]
  },
  {
   "cell_type": "markdown",
   "metadata": {},
   "source": [
    "## 0. Background\n",
    "\n",
    "\n",
    "\n",
    "Based on the previous lessons on explainability, post-hoc methods are used to explain the model, such as saliency map, SmoothGrad, LRP, LIME, and SHAP. Take LRP (Layer Wise Relevance Propagation) as an example; it highlights the most relevant pixels to obtain a prediction of the class \"cat\" by backpropagating the relevance. (image source: [Montavon et. al (2016)](https://giorgiomorales.github.io/Layer-wise-Relevance-Propagation-in-Pytorch/))\n",
    "\n",
    "<!-- %%[markdown] -->\n",
    "![LRP example](images/catLRP.jpg)\n",
    "\n",
    "Another example is about text sentiment classification, here we show a case of visualizing the importance of words given the prediction of 'positive':\n",
    "\n",
    "![text example](images/textGradL2.png)\n",
    "\n",
    "where the words highlight with darker colours indicate to be more critical in predicting the sentence to be 'positive' in sentiment.\n",
    "More examples could be found [here](http://34.160.227.66/?models=sst2-tiny&dataset=sst_dev&hidden_modules=Explanations_Attention&layout=default).\n",
    "\n",
    "Both cases above require the class or the prediction of the model. But:\n",
    "\n",
    "***How do you explain a model that does not predict but generates?***\n",
    "\n",
    "In this project, we will work on explaining the generative model based on the dependency between words. We will first look at a simple example, and using Point-wise Mutual Information (PMI) to compute the saliency map of the sentence. After that we will contruct the expereiment step by step, followed by exercises and questions.\n"
   ]
  },
  {
   "cell_type": "markdown",
   "metadata": {},
   "source": [
    "## 1. A simple example to start with\n",
    "Given a sample sentence: \n",
    "> *Tokyo is the capital city of Japan.* \n",
    "\n",
    "We are going to explain this sentence by finding the dependency using a saliency map between words.\n",
    "The dependency of two words in the sentence could be measured by [Point-wise mutual information (PMI)](https://en.wikipedia.org/wiki/Pointwise_mutual_information): \n",
    "\n",
    "\n",
    "Mask two words out, e.g. \n",
    "> \\[MASK-1\\] is the captial city of \\[MASK-2\\].\n",
    "\n",
    "\n",
    "Ask the generative model to fill in the sentence 10 times, and we have:\n",
    "\n",
    "| MASK-1      | MASK-2 |\n",
    "| ----------- | ----------- |\n",
    "|    tokyo   |     japan   |\n",
    "|  paris  |     france    |\n",
    "|  london  |     england    |\n",
    "|  paris  |     france    |\n",
    "|  beijing |  china |\n",
    "|    tokyo   |     japan   |\n",
    "|  paris  |     france    |\n",
    "|  paris  |     france    |\n",
    "|  london  |     england    |\n",
    "|  beijing |  china |\n",
    "\n",
    "PMI is calculated by: \n",
    "\n",
    "$PMI(x,y)=log_2⁡ \\frac{p(\\{x,y\\}| s-\\{x,y\\})}{P(\\{x\\}|s-\\{x,y\\})P(\\{y\\}|s-\\{x,y\\})}$\n",
    "\n",
    "where $x$, $y$ represents the words that we masked out, $s$ represents the setence, and $s-\\{x,y\\}$ represents the sentences tokens after removing the words $x$ and $y$.\n",
    "\n",
    "In this example we have $PMI(Tokyo, capital) = log_2 \\frac{0.2}{0.2 * 0.2} = 2.32$\n",
    "\n",
    "Select an interesting word in the sentences; we can now compute the PMI between all other words and the chosen word using the generative model:\n",
    "(Here, we use a longer sentence and run 20 responses per word.)\n",
    "![](images/resPMI.png)\n"
   ]
  },
  {
   "cell_type": "code",
   "execution_count": null,
   "metadata": {},
   "outputs": [],
   "source": []
  },
  {
   "cell_type": "markdown",
   "metadata": {},
   "source": [
    "## 2. Preparation\n",
    "### 2.1 Conda enviroment\n",
    "\n",
    "```\n",
    "conda env create -f environment.yml\n",
    "conda activate xai_llm\n",
    "```\n",
    "\n",
    "\n",
    "### 2.2 Download the offline LLM\n",
    "\n",
    "We use the offline LLM model from hugging face. It's approximately 5 GB.\n",
    "Download it using the comman below, and save it under `./models/`.\n",
    "```\n",
    "huggingface-cli download TheBloke/openchat-3.5-0106-GGUF openchat-3.5-0106.Q4_K_M.gguf --local-dir . --local-dir-use-symlinks False\n",
    "# credit to https://huggingface.co/TheBloke/openchat-3.5-0106-GGUF\n",
    "```"
   ]
  },
  {
   "cell_type": "markdown",
   "metadata": {},
   "source": [
    "## 3. Mask the sentence and get the responses from LLM\n",
    "### 3.1 Get the input sentence\n",
    "\n",
    "**Remember to change the anchor word index when changing the input sentence.**"
   ]
  },
  {
   "cell_type": "code",
   "execution_count": 17,
   "metadata": {},
   "outputs": [],
   "source": [
    "import os\n",
    "import numpy as np\n",
    "# change to your working directory\n",
    "os.chdir(R'C:\\Users\\anned\\OneDrive - Danmarks Tekniske Universitet\\Uni\\Responible AI\\Project\\Project_3\\XAI_LLM')"
   ]
  },
  {
   "cell_type": "code",
   "execution_count": 18,
   "metadata": {},
   "outputs": [
    {
     "name": "stdout",
     "output_type": "stream",
     "text": [
      "Sentence:  Tokyo is the capital city of Japan and a popular metropolis in the world.\n"
     ]
    }
   ],
   "source": [
    "def get_input():\n",
    "    # ideally this reads inputs from a file, now it just takes an input\n",
    "    return input(\"Enter a sentence: \")\n",
    "    \n",
    "anchor_word_idx = 0 # the index of the interested word\n",
    "prompts_per_word = 20 # number of generated responses  \n",
    "\n",
    "#sentence = get_input()\n",
    "# I chose to ignore the input function and just set the sentence manually because why wouldn't you?\n",
    "# Test with this shorter sentence to make code run faster. I later load in the full responses for the full sentence, but this takes a long time to run.\n",
    "sentence = \"the quick brown fox\"# jumps over the lazy dog\"\n",
    "sentence = \"tokyo is the capital city of japan and a popular metropolis in the world.\"\n",
    "print(\"Sentence: \", sentence)"
   ]
  },
  {
   "cell_type": "markdown",
   "metadata": {},
   "source": [
    "### 3.2 Load the model"
   ]
  },
  {
   "cell_type": "code",
   "execution_count": 19,
   "metadata": {},
   "outputs": [
    {
     "name": "stdout",
     "output_type": "stream",
     "text": [
      "Model: openchat\n"
     ]
    },
    {
     "name": "stderr",
     "output_type": "stream",
     "text": [
      "AVX = 1 | AVX_VNNI = 0 | AVX2 = 1 | AVX512 = 0 | AVX512_VBMI = 0 | AVX512_VNNI = 0 | FMA = 1 | NEON = 0 | ARM_FMA = 0 | F16C = 1 | FP16_VA = 0 | WASM_SIMD = 0 | BLAS = 0 | SSE3 = 1 | SSSE3 = 0 | VSX = 0 | \n",
      "Model metadata: {'general.name': 'openchat_openchat-3.5-0106', 'general.architecture': 'llama', 'llama.context_length': '8192', 'llama.rope.dimension_count': '128', 'llama.embedding_length': '4096', 'llama.block_count': '32', 'llama.feed_forward_length': '14336', 'llama.attention.head_count': '32', 'tokenizer.ggml.eos_token_id': '32000', 'general.file_type': '15', 'llama.attention.head_count_kv': '8', 'llama.attention.layer_norm_rms_epsilon': '0.000010', 'llama.rope.freq_base': '10000.000000', 'tokenizer.ggml.model': 'llama', 'general.quantization_version': '2', 'tokenizer.ggml.bos_token_id': '1', 'tokenizer.ggml.unknown_token_id': '0', 'tokenizer.ggml.add_bos_token': 'true', 'tokenizer.ggml.add_eos_token': 'false', 'tokenizer.chat_template': \"{{ bos_token }}{% for message in messages %}{{ 'GPT4 Correct ' + message['role'].title() + ': ' + message['content'] + '<|end_of_turn|>'}}{% endfor %}{% if add_generation_prompt %}{{ 'GPT4 Correct Assistant:' }}{% endif %}\"}\n"
     ]
    }
   ],
   "source": [
    "from models.ChatModel import ChatModel\n",
    "model_name = \"openchat\"\n",
    "model = ChatModel(model_name)\n",
    "print(f\"Model: {model_name}\")"
   ]
  },
  {
   "cell_type": "markdown",
   "metadata": {},
   "source": [
    "### 3.3 Run the prompts and get all the responses\n"
   ]
  },
  {
   "cell_type": "code",
   "execution_count": 20,
   "metadata": {},
   "outputs": [
    {
     "name": "stderr",
     "output_type": "stream",
     "text": [
      "Input: [MASK] [MASK] the capital city of Japan and a popular metropolis in the world.:   0%|          | 0/20 [00:00<?, ?it/s]"
     ]
    },
    {
     "name": "stderr",
     "output_type": "stream",
     "text": [
      "Input: [MASK] [MASK] the capital city of Japan and a popular metropolis in the world.:   5%|▌         | 1/20 [00:16<05:16, 16.66s/it]Llama.generate: prefix-match hit\n",
      "Input: [MASK] [MASK] the capital city of Japan and a popular metropolis in the world.:  10%|█         | 2/20 [00:21<02:52,  9.57s/it]Llama.generate: prefix-match hit\n",
      "Input: [MASK] [MASK] the capital city of Japan and a popular metropolis in the world.:  15%|█▌        | 3/20 [00:27<02:18,  8.13s/it]Llama.generate: prefix-match hit\n",
      "Input: [MASK] [MASK] the capital city of Japan and a popular metropolis in the world.:  20%|██        | 4/20 [00:34<01:59,  7.47s/it]Llama.generate: prefix-match hit\n",
      "Input: [MASK] [MASK] the capital city of Japan and a popular metropolis in the world.:  25%|██▌       | 5/20 [00:42<01:54,  7.63s/it]Llama.generate: prefix-match hit\n",
      "Input: [MASK] [MASK] the capital city of Japan and a popular metropolis in the world.:  30%|███       | 6/20 [00:50<01:52,  8.04s/it]Llama.generate: prefix-match hit\n",
      "Input: [MASK] [MASK] the capital city of Japan and a popular metropolis in the world.:  35%|███▌      | 7/20 [00:57<01:40,  7.72s/it]Llama.generate: prefix-match hit\n",
      "Input: [MASK] [MASK] the capital city of Japan and a popular metropolis in the world.:  40%|████      | 8/20 [01:05<01:32,  7.75s/it]Llama.generate: prefix-match hit\n",
      "Input: [MASK] [MASK] the capital city of Japan and a popular metropolis in the world.:  45%|████▌     | 9/20 [01:11<01:19,  7.24s/it]Llama.generate: prefix-match hit\n",
      "Input: [MASK] [MASK] the capital city of Japan and a popular metropolis in the world.:  50%|█████     | 10/20 [01:21<01:19,  7.95s/it]Llama.generate: prefix-match hit\n",
      "Input: [MASK] [MASK] the capital city of Japan and a popular metropolis in the world.:  55%|█████▌    | 11/20 [01:28<01:08,  7.60s/it]Llama.generate: prefix-match hit\n",
      "Input: [MASK] [MASK] the capital city of Japan and a popular metropolis in the world.:  60%|██████    | 12/20 [01:38<01:08,  8.52s/it]Llama.generate: prefix-match hit\n",
      "Input: [MASK] [MASK] the capital city of Japan and a popular metropolis in the world.:  65%|██████▌   | 13/20 [01:43<00:51,  7.36s/it]Llama.generate: prefix-match hit\n",
      "Input: [MASK] [MASK] the capital city of Japan and a popular metropolis in the world.:  70%|███████   | 14/20 [01:48<00:39,  6.57s/it]Llama.generate: prefix-match hit\n",
      "Input: [MASK] [MASK] the capital city of Japan and a popular metropolis in the world.:  75%|███████▌  | 15/20 [01:52<00:29,  6.00s/it]Llama.generate: prefix-match hit\n",
      "Input: [MASK] [MASK] the capital city of Japan and a popular metropolis in the world.:  80%|████████  | 16/20 [01:57<00:22,  5.59s/it]Llama.generate: prefix-match hit\n",
      "Input: [MASK] [MASK] the capital city of Japan and a popular metropolis in the world.:  85%|████████▌ | 17/20 [02:02<00:15,  5.32s/it]Llama.generate: prefix-match hit\n",
      "Input: [MASK] [MASK] the capital city of Japan and a popular metropolis in the world.:  90%|█████████ | 18/20 [02:07<00:10,  5.21s/it]Llama.generate: prefix-match hit\n",
      "Input: [MASK] [MASK] the capital city of Japan and a popular metropolis in the world.:  95%|█████████▌| 19/20 [02:11<00:05,  5.03s/it]Llama.generate: prefix-match hit\n",
      "Input: [MASK] [MASK] the capital city of Japan and a popular metropolis in the world.: 100%|██████████| 20/20 [02:16<00:00,  6.83s/it]\n",
      "Input: [MASK] is [MASK] capital city of Japan and a popular metropolis in the world.:   0%|          | 0/20 [00:00<?, ?it/s]Llama.generate: prefix-match hit\n",
      "Input: [MASK] is [MASK] capital city of Japan and a popular metropolis in the world.:   5%|▌         | 1/20 [00:09<02:52,  9.06s/it]Llama.generate: prefix-match hit\n",
      "Input: [MASK] is [MASK] capital city of Japan and a popular metropolis in the world.:  10%|█         | 2/20 [00:14<02:02,  6.81s/it]Llama.generate: prefix-match hit\n",
      "Input: [MASK] is [MASK] capital city of Japan and a popular metropolis in the world.:  15%|█▌        | 3/20 [00:22<02:06,  7.45s/it]Llama.generate: prefix-match hit\n",
      "Input: [MASK] is [MASK] capital city of Japan and a popular metropolis in the world.:  20%|██        | 4/20 [00:27<01:41,  6.35s/it]Llama.generate: prefix-match hit\n",
      "Input: [MASK] is [MASK] capital city of Japan and a popular metropolis in the world.:  25%|██▌       | 5/20 [00:32<01:28,  5.93s/it]Llama.generate: prefix-match hit\n",
      "Input: [MASK] is [MASK] capital city of Japan and a popular metropolis in the world.:  30%|███       | 6/20 [00:41<01:38,  7.03s/it]"
     ]
    },
    {
     "name": "stdout",
     "output_type": "stream",
     "text": [
      " Response is not valid. ['[mask]', 'is', '[mask]', 'capital', 'city', 'of', 'japan', 'and', 'a', 'popular', 'metropolis', 'in', 'the', 'world'] ['tokyo', 'is', 'japans', 'capital', 'city', 'and', 'a', 'popular', 'metropolis', 'in', 'the', 'world']\n"
     ]
    },
    {
     "name": "stderr",
     "output_type": "stream",
     "text": [
      "Llama.generate: prefix-match hit\n",
      "Input: [MASK] is [MASK] capital city of Japan and a popular metropolis in the world.:  35%|███▌      | 7/20 [01:12<03:13, 14.87s/it]"
     ]
    },
    {
     "name": "stdout",
     "output_type": "stream",
     "text": [
      " Response is not valid. ['[mask]', 'is', '[mask]', 'capital', 'city', 'of', 'japan', 'and', 'a', 'popular', 'metropolis', 'in', 'the', 'world'] ['tokyo', 'is', 'japans', 'capital', 'city', 'and', 'a', 'popular', 'metropolis', 'in', 'the', 'world']\n"
     ]
    },
    {
     "name": "stderr",
     "output_type": "stream",
     "text": [
      "Llama.generate: prefix-match hit\n",
      "Input: [MASK] is [MASK] capital city of Japan and a popular metropolis in the world.:  40%|████      | 8/20 [01:23<02:44, 13.69s/it]Llama.generate: prefix-match hit\n",
      "Input: [MASK] is [MASK] capital city of Japan and a popular metropolis in the world.:  45%|████▌     | 9/20 [01:30<02:08, 11.66s/it]Llama.generate: prefix-match hit\n",
      "Input: [MASK] is [MASK] capital city of Japan and a popular metropolis in the world.:  50%|█████     | 10/20 [01:36<01:36,  9.65s/it]Llama.generate: prefix-match hit\n",
      "Input: [MASK] is [MASK] capital city of Japan and a popular metropolis in the world.:  55%|█████▌    | 11/20 [01:42<01:18,  8.70s/it]"
     ]
    },
    {
     "name": "stdout",
     "output_type": "stream",
     "text": [
      " Response is not valid. ['[mask]', 'is', '[mask]', 'capital', 'city', 'of', 'japan', 'and', 'a', 'popular', 'metropolis', 'in', 'the', 'world'] ['tokyo', 'is', 'japans', 'capital', 'city', 'and', 'a', 'popular', 'metropolis', 'in', 'the', 'world']\n"
     ]
    },
    {
     "name": "stderr",
     "output_type": "stream",
     "text": [
      "Llama.generate: prefix-match hit\n",
      "Input: [MASK] is [MASK] capital city of Japan and a popular metropolis in the world.:  60%|██████    | 12/20 [01:55<01:19,  9.91s/it]Llama.generate: prefix-match hit\n",
      "Input: [MASK] is [MASK] capital city of Japan and a popular metropolis in the world.:  65%|██████▌   | 13/20 [02:02<01:02,  8.97s/it]Llama.generate: prefix-match hit\n",
      "Input: [MASK] is [MASK] capital city of Japan and a popular metropolis in the world.:  70%|███████   | 14/20 [02:08<00:49,  8.27s/it]"
     ]
    },
    {
     "name": "stdout",
     "output_type": "stream",
     "text": [
      " Response is not valid. ['[mask]', 'is', '[mask]', 'capital', 'city', 'of', 'japan', 'and', 'a', 'popular', 'metropolis', 'in', 'the', 'world'] ['tokyo', 'is', 'japans', 'capital', 'city', 'and', 'a', 'popular', 'metropolis', 'in', 'the', 'world']\n"
     ]
    },
    {
     "name": "stderr",
     "output_type": "stream",
     "text": [
      "Llama.generate: prefix-match hit\n",
      "Input: [MASK] is [MASK] capital city of Japan and a popular metropolis in the world.:  75%|███████▌  | 15/20 [02:15<00:39,  7.90s/it]Llama.generate: prefix-match hit\n",
      "Input: [MASK] is [MASK] capital city of Japan and a popular metropolis in the world.:  80%|████████  | 16/20 [02:21<00:29,  7.26s/it]"
     ]
    },
    {
     "name": "stdout",
     "output_type": "stream",
     "text": [
      " Response is not valid. ['[mask]', 'is', '[mask]', 'capital', 'city', 'of', 'japan', 'and', 'a', 'popular', 'metropolis', 'in', 'the', 'world'] ['tokyo', 'is', 'japans', 'capital', 'city', 'and', 'a', 'popular', 'metropolis', 'in', 'the', 'world']\n"
     ]
    },
    {
     "name": "stderr",
     "output_type": "stream",
     "text": [
      "Llama.generate: prefix-match hit\n",
      "Input: [MASK] is [MASK] capital city of Japan and a popular metropolis in the world.:  85%|████████▌ | 17/20 [02:27<00:20,  6.83s/it]"
     ]
    },
    {
     "name": "stdout",
     "output_type": "stream",
     "text": [
      " Response is not valid. ['[mask]', 'is', '[mask]', 'capital', 'city', 'of', 'japan', 'and', 'a', 'popular', 'metropolis', 'in', 'the', 'world'] ['tokyo', 'is', 'japans', 'capital', 'city', 'and', 'a', 'popular', 'metropolis', 'in', 'the', 'world']\n"
     ]
    },
    {
     "name": "stderr",
     "output_type": "stream",
     "text": [
      "Llama.generate: prefix-match hit\n",
      "Input: [MASK] is [MASK] capital city of Japan and a popular metropolis in the world.:  90%|█████████ | 18/20 [02:33<00:13,  6.75s/it]"
     ]
    },
    {
     "name": "stdout",
     "output_type": "stream",
     "text": [
      " Response is not valid. ['[mask]', 'is', '[mask]', 'capital', 'city', 'of', 'japan', 'and', 'a', 'popular', 'metropolis', 'in', 'the', 'world'] ['tokyo', 'is', 'japans', 'capital', 'city', 'and', 'a', 'popular', 'metropolis', 'in', 'the', 'world']\n"
     ]
    },
    {
     "name": "stderr",
     "output_type": "stream",
     "text": [
      "Llama.generate: prefix-match hit\n",
      "Input: [MASK] is [MASK] capital city of Japan and a popular metropolis in the world.:  95%|█████████▌| 19/20 [02:39<00:06,  6.41s/it]Llama.generate: prefix-match hit\n",
      "Input: [MASK] is [MASK] capital city of Japan and a popular metropolis in the world.: 100%|██████████| 20/20 [03:08<00:00,  9.45s/it]\n"
     ]
    },
    {
     "name": "stdout",
     "output_type": "stream",
     "text": [
      " Response is not valid. ['[mask]', 'is', '[mask]', 'capital', 'city', 'of', 'japan', 'and', 'a', 'popular', 'metropolis', 'in', 'the', 'world'] ['tokyo', 'is', 'japans', 'capital', 'city', 'and', 'a', 'popular', 'metropolis', 'in', 'the', 'world']\n"
     ]
    },
    {
     "name": "stderr",
     "output_type": "stream",
     "text": [
      "Input: [MASK] is the [MASK] city of Japan and a popular metropolis in the world.:   0%|          | 0/20 [00:00<?, ?it/s]Llama.generate: prefix-match hit\n",
      "Input: [MASK] is the [MASK] city of Japan and a popular metropolis in the world.:   5%|▌         | 1/20 [00:20<06:23, 20.20s/it]Llama.generate: prefix-match hit\n",
      "Input: [MASK] is the [MASK] city of Japan and a popular metropolis in the world.:  10%|█         | 2/20 [00:29<04:12, 14.04s/it]Llama.generate: prefix-match hit\n",
      "Input: [MASK] is the [MASK] city of Japan and a popular metropolis in the world.:  15%|█▌        | 3/20 [00:46<04:15, 15.02s/it]Llama.generate: prefix-match hit\n",
      "Input: [MASK] is the [MASK] city of Japan and a popular metropolis in the world.:  20%|██        | 4/20 [00:53<03:13, 12.07s/it]Llama.generate: prefix-match hit\n",
      "Input: [MASK] is the [MASK] city of Japan and a popular metropolis in the world.:  25%|██▌       | 5/20 [01:00<02:32, 10.20s/it]Llama.generate: prefix-match hit\n",
      "Input: [MASK] is the [MASK] city of Japan and a popular metropolis in the world.:  30%|███       | 6/20 [01:24<03:27, 14.83s/it]Llama.generate: prefix-match hit\n",
      "Input: [MASK] is the [MASK] city of Japan and a popular metropolis in the world.:  35%|███▌      | 7/20 [01:33<02:49, 13.04s/it]Llama.generate: prefix-match hit\n",
      "Input: [MASK] is the [MASK] city of Japan and a popular metropolis in the world.:  40%|████      | 8/20 [01:42<02:20, 11.71s/it]Llama.generate: prefix-match hit\n",
      "Input: [MASK] is the [MASK] city of Japan and a popular metropolis in the world.:  45%|████▌     | 9/20 [01:49<01:51, 10.09s/it]Llama.generate: prefix-match hit\n",
      "Input: [MASK] is the [MASK] city of Japan and a popular metropolis in the world.:  50%|█████     | 10/20 [01:55<01:30,  9.06s/it]Llama.generate: prefix-match hit\n",
      "Input: [MASK] is the [MASK] city of Japan and a popular metropolis in the world.:  55%|█████▌    | 11/20 [02:02<01:13,  8.20s/it]Llama.generate: prefix-match hit\n",
      "Input: [MASK] is the [MASK] city of Japan and a popular metropolis in the world.:  60%|██████    | 12/20 [02:09<01:03,  7.88s/it]Llama.generate: prefix-match hit\n",
      "Input: [MASK] is the [MASK] city of Japan and a popular metropolis in the world.:  65%|██████▌   | 13/20 [02:15<00:51,  7.34s/it]Llama.generate: prefix-match hit\n",
      "Input: [MASK] is the [MASK] city of Japan and a popular metropolis in the world.:  70%|███████   | 14/20 [02:21<00:41,  6.98s/it]Llama.generate: prefix-match hit\n",
      "Input: [MASK] is the [MASK] city of Japan and a popular metropolis in the world.:  75%|███████▌  | 15/20 [02:28<00:34,  6.93s/it]Llama.generate: prefix-match hit\n",
      "Input: [MASK] is the [MASK] city of Japan and a popular metropolis in the world.:  80%|████████  | 16/20 [02:34<00:26,  6.74s/it]Llama.generate: prefix-match hit\n",
      "Input: [MASK] is the [MASK] city of Japan and a popular metropolis in the world.:  85%|████████▌ | 17/20 [02:48<00:26,  8.90s/it]Llama.generate: prefix-match hit\n",
      "Input: [MASK] is the [MASK] city of Japan and a popular metropolis in the world.:  90%|█████████ | 18/20 [02:56<00:17,  8.58s/it]Llama.generate: prefix-match hit\n",
      "Input: [MASK] is the [MASK] city of Japan and a popular metropolis in the world.:  95%|█████████▌| 19/20 [03:04<00:08,  8.43s/it]Llama.generate: prefix-match hit\n",
      "Input: [MASK] is the [MASK] city of Japan and a popular metropolis in the world.: 100%|██████████| 20/20 [03:13<00:00,  9.68s/it]\n",
      "Input: [MASK] is the capital [MASK] of Japan and a popular metropolis in the world.:   0%|          | 0/20 [00:00<?, ?it/s]Llama.generate: prefix-match hit\n",
      "Input: [MASK] is the capital [MASK] of Japan and a popular metropolis in the world.:   5%|▌         | 1/20 [00:15<04:45, 15.04s/it]Llama.generate: prefix-match hit\n",
      "Input: [MASK] is the capital [MASK] of Japan and a popular metropolis in the world.:  10%|█         | 2/20 [00:19<02:37,  8.75s/it]Llama.generate: prefix-match hit\n",
      "Input: [MASK] is the capital [MASK] of Japan and a popular metropolis in the world.:  15%|█▌        | 3/20 [00:23<01:56,  6.85s/it]Llama.generate: prefix-match hit\n",
      "Input: [MASK] is the capital [MASK] of Japan and a popular metropolis in the world.:  20%|██        | 4/20 [00:28<01:35,  5.98s/it]Llama.generate: prefix-match hit\n",
      "Input: [MASK] is the capital [MASK] of Japan and a popular metropolis in the world.:  25%|██▌       | 5/20 [00:33<01:22,  5.51s/it]Llama.generate: prefix-match hit\n",
      "Input: [MASK] is the capital [MASK] of Japan and a popular metropolis in the world.:  30%|███       | 6/20 [00:37<01:11,  5.09s/it]Llama.generate: prefix-match hit\n",
      "Input: [MASK] is the capital [MASK] of Japan and a popular metropolis in the world.:  35%|███▌      | 7/20 [00:42<01:05,  5.00s/it]Llama.generate: prefix-match hit\n",
      "Input: [MASK] is the capital [MASK] of Japan and a popular metropolis in the world.:  40%|████      | 8/20 [00:47<01:00,  5.05s/it]Llama.generate: prefix-match hit\n",
      "Input: [MASK] is the capital [MASK] of Japan and a popular metropolis in the world.:  45%|████▌     | 9/20 [00:52<00:54,  4.97s/it]Llama.generate: prefix-match hit\n",
      "Input: [MASK] is the capital [MASK] of Japan and a popular metropolis in the world.:  50%|█████     | 10/20 [00:57<00:49,  4.99s/it]Llama.generate: prefix-match hit\n",
      "Input: [MASK] is the capital [MASK] of Japan and a popular metropolis in the world.:  55%|█████▌    | 11/20 [01:02<00:44,  4.96s/it]Llama.generate: prefix-match hit\n",
      "Input: [MASK] is the capital [MASK] of Japan and a popular metropolis in the world.:  60%|██████    | 12/20 [01:07<00:39,  4.95s/it]Llama.generate: prefix-match hit\n",
      "Input: [MASK] is the capital [MASK] of Japan and a popular metropolis in the world.:  65%|██████▌   | 13/20 [01:14<00:40,  5.81s/it]Llama.generate: prefix-match hit\n",
      "Input: [MASK] is the capital [MASK] of Japan and a popular metropolis in the world.:  70%|███████   | 14/20 [01:23<00:38,  6.50s/it]Llama.generate: prefix-match hit\n",
      "Input: [MASK] is the capital [MASK] of Japan and a popular metropolis in the world.:  75%|███████▌  | 15/20 [01:30<00:34,  6.84s/it]Llama.generate: prefix-match hit\n",
      "Input: [MASK] is the capital [MASK] of Japan and a popular metropolis in the world.:  80%|████████  | 16/20 [01:37<00:27,  6.84s/it]Llama.generate: prefix-match hit\n",
      "Input: [MASK] is the capital [MASK] of Japan and a popular metropolis in the world.:  85%|████████▌ | 17/20 [01:42<00:18,  6.25s/it]Llama.generate: prefix-match hit\n",
      "Input: [MASK] is the capital [MASK] of Japan and a popular metropolis in the world.:  90%|█████████ | 18/20 [01:48<00:12,  6.10s/it]Llama.generate: prefix-match hit\n",
      "Input: [MASK] is the capital [MASK] of Japan and a popular metropolis in the world.:  95%|█████████▌| 19/20 [01:53<00:06,  6.01s/it]Llama.generate: prefix-match hit\n",
      "Input: [MASK] is the capital [MASK] of Japan and a popular metropolis in the world.: 100%|██████████| 20/20 [02:00<00:00,  6.03s/it]\n",
      "Input: [MASK] is the capital city [MASK] Japan and a popular metropolis in the world.:   0%|          | 0/20 [00:00<?, ?it/s]Llama.generate: prefix-match hit\n",
      "Input: [MASK] is the capital city [MASK] Japan and a popular metropolis in the world.:   5%|▌         | 1/20 [00:10<03:13, 10.20s/it]Llama.generate: prefix-match hit\n",
      "Input: [MASK] is the capital city [MASK] Japan and a popular metropolis in the world.:  10%|█         | 2/20 [00:17<02:28,  8.23s/it]Llama.generate: prefix-match hit\n",
      "Input: [MASK] is the capital city [MASK] Japan and a popular metropolis in the world.:  15%|█▌        | 3/20 [00:26<02:30,  8.84s/it]Llama.generate: prefix-match hit\n",
      "Input: [MASK] is the capital city [MASK] Japan and a popular metropolis in the world.:  20%|██        | 4/20 [00:32<02:01,  7.58s/it]Llama.generate: prefix-match hit\n",
      "Input: [MASK] is the capital city [MASK] Japan and a popular metropolis in the world.:  25%|██▌       | 5/20 [00:37<01:42,  6.86s/it]Llama.generate: prefix-match hit\n",
      "Input: [MASK] is the capital city [MASK] Japan and a popular metropolis in the world.:  30%|███       | 6/20 [00:43<01:29,  6.41s/it]Llama.generate: prefix-match hit\n",
      "Input: [MASK] is the capital city [MASK] Japan and a popular metropolis in the world.:  35%|███▌      | 7/20 [00:48<01:19,  6.14s/it]Llama.generate: prefix-match hit\n",
      "Input: [MASK] is the capital city [MASK] Japan and a popular metropolis in the world.:  40%|████      | 8/20 [00:54<01:12,  6.04s/it]Llama.generate: prefix-match hit\n",
      "Input: [MASK] is the capital city [MASK] Japan and a popular metropolis in the world.:  45%|████▌     | 9/20 [01:00<01:04,  5.90s/it]Llama.generate: prefix-match hit\n",
      "Input: [MASK] is the capital city [MASK] Japan and a popular metropolis in the world.:  50%|█████     | 10/20 [01:06<00:58,  5.87s/it]Llama.generate: prefix-match hit\n",
      "Input: [MASK] is the capital city [MASK] Japan and a popular metropolis in the world.:  55%|█████▌    | 11/20 [01:11<00:51,  5.77s/it]Llama.generate: prefix-match hit\n",
      "Input: [MASK] is the capital city [MASK] Japan and a popular metropolis in the world.:  60%|██████    | 12/20 [01:17<00:45,  5.69s/it]Llama.generate: prefix-match hit\n",
      "Input: [MASK] is the capital city [MASK] Japan and a popular metropolis in the world.:  65%|██████▌   | 13/20 [01:26<00:47,  6.77s/it]Llama.generate: prefix-match hit\n",
      "Input: [MASK] is the capital city [MASK] Japan and a popular metropolis in the world.:  70%|███████   | 14/20 [01:31<00:37,  6.31s/it]Llama.generate: prefix-match hit\n",
      "Input: [MASK] is the capital city [MASK] Japan and a popular metropolis in the world.:  75%|███████▌  | 15/20 [01:37<00:29,  5.99s/it]Llama.generate: prefix-match hit\n",
      "Input: [MASK] is the capital city [MASK] Japan and a popular metropolis in the world.:  80%|████████  | 16/20 [01:42<00:23,  5.76s/it]Llama.generate: prefix-match hit\n",
      "Input: [MASK] is the capital city [MASK] Japan and a popular metropolis in the world.:  85%|████████▌ | 17/20 [01:47<00:16,  5.57s/it]Llama.generate: prefix-match hit\n",
      "Input: [MASK] is the capital city [MASK] Japan and a popular metropolis in the world.:  90%|█████████ | 18/20 [01:52<00:11,  5.51s/it]Llama.generate: prefix-match hit\n",
      "Input: [MASK] is the capital city [MASK] Japan and a popular metropolis in the world.:  95%|█████████▌| 19/20 [01:58<00:05,  5.46s/it]Llama.generate: prefix-match hit\n",
      "Input: [MASK] is the capital city [MASK] Japan and a popular metropolis in the world.: 100%|██████████| 20/20 [02:03<00:00,  6.16s/it]\n",
      "Input: [MASK] is the capital city of [MASK] and a popular metropolis in the world.:   0%|          | 0/20 [00:00<?, ?it/s]Llama.generate: prefix-match hit\n",
      "Input: [MASK] is the capital city of [MASK] and a popular metropolis in the world.:   5%|▌         | 1/20 [00:08<02:43,  8.63s/it]Llama.generate: prefix-match hit\n",
      "Input: [MASK] is the capital city of [MASK] and a popular metropolis in the world.:  10%|█         | 2/20 [00:13<01:58,  6.56s/it]Llama.generate: prefix-match hit\n",
      "Input: [MASK] is the capital city of [MASK] and a popular metropolis in the world.:  15%|█▌        | 3/20 [00:23<02:17,  8.10s/it]Llama.generate: prefix-match hit\n",
      "Input: [MASK] is the capital city of [MASK] and a popular metropolis in the world.:  20%|██        | 4/20 [00:28<01:48,  6.79s/it]Llama.generate: prefix-match hit\n",
      "Input: [MASK] is the capital city of [MASK] and a popular metropolis in the world.:  25%|██▌       | 5/20 [00:37<01:52,  7.48s/it]Llama.generate: prefix-match hit\n",
      "Input: [MASK] is the capital city of [MASK] and a popular metropolis in the world.:  30%|███       | 6/20 [00:44<01:43,  7.37s/it]Llama.generate: prefix-match hit\n",
      "Input: [MASK] is the capital city of [MASK] and a popular metropolis in the world.:  35%|███▌      | 7/20 [00:51<01:34,  7.25s/it]Llama.generate: prefix-match hit\n",
      "Input: [MASK] is the capital city of [MASK] and a popular metropolis in the world.:  40%|████      | 8/20 [00:56<01:20,  6.74s/it]Llama.generate: prefix-match hit\n",
      "Input: [MASK] is the capital city of [MASK] and a popular metropolis in the world.:  45%|████▌     | 9/20 [01:03<01:14,  6.74s/it]Llama.generate: prefix-match hit\n",
      "Input: [MASK] is the capital city of [MASK] and a popular metropolis in the world.:  50%|█████     | 10/20 [01:09<01:03,  6.37s/it]Llama.generate: prefix-match hit\n",
      "Input: [MASK] is the capital city of [MASK] and a popular metropolis in the world.:  55%|█████▌    | 11/20 [01:14<00:55,  6.14s/it]Llama.generate: prefix-match hit\n",
      "Input: [MASK] is the capital city of [MASK] and a popular metropolis in the world.:  60%|██████    | 12/20 [01:24<00:58,  7.27s/it]Llama.generate: prefix-match hit\n",
      "Input: [MASK] is the capital city of [MASK] and a popular metropolis in the world.:  65%|██████▌   | 13/20 [01:31<00:49,  7.00s/it]Llama.generate: prefix-match hit\n",
      "Input: [MASK] is the capital city of [MASK] and a popular metropolis in the world.:  70%|███████   | 14/20 [01:37<00:40,  6.72s/it]Llama.generate: prefix-match hit\n",
      "Input: [MASK] is the capital city of [MASK] and a popular metropolis in the world.:  75%|███████▌  | 15/20 [01:43<00:32,  6.51s/it]Llama.generate: prefix-match hit\n",
      "Input: [MASK] is the capital city of [MASK] and a popular metropolis in the world.:  80%|████████  | 16/20 [01:48<00:25,  6.27s/it]Llama.generate: prefix-match hit\n",
      "Input: [MASK] is the capital city of [MASK] and a popular metropolis in the world.:  85%|████████▌ | 17/20 [01:54<00:18,  6.19s/it]Llama.generate: prefix-match hit\n",
      "Input: [MASK] is the capital city of [MASK] and a popular metropolis in the world.:  90%|█████████ | 18/20 [02:00<00:12,  6.03s/it]Llama.generate: prefix-match hit\n",
      "Input: [MASK] is the capital city of [MASK] and a popular metropolis in the world.:  95%|█████████▌| 19/20 [02:15<00:08,  8.72s/it]Llama.generate: prefix-match hit\n",
      "Input: [MASK] is the capital city of [MASK] and a popular metropolis in the world.: 100%|██████████| 20/20 [02:28<00:00,  7.40s/it]\n",
      "Input: [MASK] is the capital city of Japan [MASK] a popular metropolis in the world.:   0%|          | 0/20 [00:00<?, ?it/s]Llama.generate: prefix-match hit\n",
      "Input: [MASK] is the capital city of Japan [MASK] a popular metropolis in the world.:   5%|▌         | 1/20 [00:16<05:15, 16.60s/it]Llama.generate: prefix-match hit\n",
      "Input: [MASK] is the capital city of Japan [MASK] a popular metropolis in the world.:  10%|█         | 2/20 [00:27<03:56, 13.13s/it]Llama.generate: prefix-match hit\n",
      "Input: [MASK] is the capital city of Japan [MASK] a popular metropolis in the world.:  15%|█▌        | 3/20 [00:33<02:51, 10.10s/it]Llama.generate: prefix-match hit\n",
      "Input: [MASK] is the capital city of Japan [MASK] a popular metropolis in the world.:  20%|██        | 4/20 [00:40<02:17,  8.58s/it]Llama.generate: prefix-match hit\n",
      "Input: [MASK] is the capital city of Japan [MASK] a popular metropolis in the world.:  25%|██▌       | 5/20 [00:47<02:01,  8.12s/it]Llama.generate: prefix-match hit\n",
      "Input: [MASK] is the capital city of Japan [MASK] a popular metropolis in the world.:  30%|███       | 6/20 [00:57<02:04,  8.88s/it]Llama.generate: prefix-match hit\n",
      "Input: [MASK] is the capital city of Japan [MASK] a popular metropolis in the world.:  35%|███▌      | 7/20 [01:03<01:41,  7.79s/it]Llama.generate: prefix-match hit\n",
      "Input: [MASK] is the capital city of Japan [MASK] a popular metropolis in the world.:  40%|████      | 8/20 [01:09<01:25,  7.15s/it]Llama.generate: prefix-match hit\n",
      "Input: [MASK] is the capital city of Japan [MASK] a popular metropolis in the world.:  45%|████▌     | 9/20 [01:14<01:14,  6.77s/it]Llama.generate: prefix-match hit\n",
      "Input: [MASK] is the capital city of Japan [MASK] a popular metropolis in the world.:  50%|█████     | 10/20 [01:20<01:02,  6.29s/it]Llama.generate: prefix-match hit\n",
      "Input: [MASK] is the capital city of Japan [MASK] a popular metropolis in the world.:  55%|█████▌    | 11/20 [01:26<00:56,  6.31s/it]Llama.generate: prefix-match hit\n",
      "Input: [MASK] is the capital city of Japan [MASK] a popular metropolis in the world.:  60%|██████    | 12/20 [01:35<00:57,  7.14s/it]Llama.generate: prefix-match hit\n",
      "Input: [MASK] is the capital city of Japan [MASK] a popular metropolis in the world.:  65%|██████▌   | 13/20 [01:43<00:51,  7.32s/it]Llama.generate: prefix-match hit\n",
      "Input: [MASK] is the capital city of Japan [MASK] a popular metropolis in the world.:  70%|███████   | 14/20 [01:49<00:42,  7.05s/it]Llama.generate: prefix-match hit\n",
      "Input: [MASK] is the capital city of Japan [MASK] a popular metropolis in the world.:  75%|███████▌  | 15/20 [01:57<00:35,  7.19s/it]Llama.generate: prefix-match hit\n",
      "Input: [MASK] is the capital city of Japan [MASK] a popular metropolis in the world.:  80%|████████  | 16/20 [02:03<00:28,  7.05s/it]Llama.generate: prefix-match hit\n",
      "Input: [MASK] is the capital city of Japan [MASK] a popular metropolis in the world.:  85%|████████▌ | 17/20 [02:10<00:20,  6.96s/it]Llama.generate: prefix-match hit\n",
      "Input: [MASK] is the capital city of Japan [MASK] a popular metropolis in the world.:  90%|█████████ | 18/20 [02:17<00:13,  6.84s/it]Llama.generate: prefix-match hit\n",
      "Input: [MASK] is the capital city of Japan [MASK] a popular metropolis in the world.:  95%|█████████▌| 19/20 [02:26<00:07,  7.64s/it]Llama.generate: prefix-match hit\n",
      "Input: [MASK] is the capital city of Japan [MASK] a popular metropolis in the world.: 100%|██████████| 20/20 [02:33<00:00,  7.68s/it]\n",
      "Input: [MASK] is the capital city of Japan and [MASK] popular metropolis in the world.:   0%|          | 0/20 [00:00<?, ?it/s]Llama.generate: prefix-match hit\n",
      "Input: [MASK] is the capital city of Japan and [MASK] popular metropolis in the world.:   5%|▌         | 1/20 [00:13<04:19, 13.65s/it]Llama.generate: prefix-match hit\n",
      "Input: [MASK] is the capital city of Japan and [MASK] popular metropolis in the world.:  10%|█         | 2/20 [00:24<03:32, 11.83s/it]Llama.generate: prefix-match hit\n",
      "Input: [MASK] is the capital city of Japan and [MASK] popular metropolis in the world.:  15%|█▌        | 3/20 [00:31<02:43,  9.61s/it]Llama.generate: prefix-match hit\n",
      "Input: [MASK] is the capital city of Japan and [MASK] popular metropolis in the world.:  20%|██        | 4/20 [00:37<02:14,  8.41s/it]Llama.generate: prefix-match hit\n",
      "Input: [MASK] is the capital city of Japan and [MASK] popular metropolis in the world.:  25%|██▌       | 5/20 [00:44<01:57,  7.82s/it]Llama.generate: prefix-match hit\n",
      "Input: [MASK] is the capital city of Japan and [MASK] popular metropolis in the world.:  30%|███       | 6/20 [00:52<01:51,  7.95s/it]Llama.generate: prefix-match hit\n",
      "Input: [MASK] is the capital city of Japan and [MASK] popular metropolis in the world.:  35%|███▌      | 7/20 [00:59<01:38,  7.57s/it]Llama.generate: prefix-match hit\n",
      "Input: [MASK] is the capital city of Japan and [MASK] popular metropolis in the world.:  40%|████      | 8/20 [01:06<01:28,  7.38s/it]Llama.generate: prefix-match hit\n",
      "Input: [MASK] is the capital city of Japan and [MASK] popular metropolis in the world.:  45%|████▌     | 9/20 [01:14<01:22,  7.47s/it]Llama.generate: prefix-match hit\n",
      "Input: [MASK] is the capital city of Japan and [MASK] popular metropolis in the world.:  50%|█████     | 10/20 [01:24<01:24,  8.47s/it]Llama.generate: prefix-match hit\n",
      "Input: [MASK] is the capital city of Japan and [MASK] popular metropolis in the world.:  55%|█████▌    | 11/20 [01:32<01:12,  8.11s/it]Llama.generate: prefix-match hit\n",
      "Input: [MASK] is the capital city of Japan and [MASK] popular metropolis in the world.:  60%|██████    | 12/20 [01:38<01:00,  7.57s/it]Llama.generate: prefix-match hit\n",
      "Input: [MASK] is the capital city of Japan and [MASK] popular metropolis in the world.:  65%|██████▌   | 13/20 [01:45<00:51,  7.37s/it]Llama.generate: prefix-match hit\n",
      "Input: [MASK] is the capital city of Japan and [MASK] popular metropolis in the world.:  70%|███████   | 14/20 [01:52<00:44,  7.41s/it]Llama.generate: prefix-match hit\n",
      "Input: [MASK] is the capital city of Japan and [MASK] popular metropolis in the world.:  75%|███████▌  | 15/20 [02:00<00:37,  7.55s/it]Llama.generate: prefix-match hit\n",
      "Input: [MASK] is the capital city of Japan and [MASK] popular metropolis in the world.:  80%|████████  | 16/20 [02:07<00:28,  7.25s/it]Llama.generate: prefix-match hit\n",
      "Input: [MASK] is the capital city of Japan and [MASK] popular metropolis in the world.:  85%|████████▌ | 17/20 [02:13<00:21,  7.06s/it]Llama.generate: prefix-match hit\n",
      "Input: [MASK] is the capital city of Japan and [MASK] popular metropolis in the world.:  90%|█████████ | 18/20 [02:25<00:16,  8.44s/it]Llama.generate: prefix-match hit\n",
      "Input: [MASK] is the capital city of Japan and [MASK] popular metropolis in the world.:  95%|█████████▌| 19/20 [02:33<00:08,  8.31s/it]Llama.generate: prefix-match hit\n",
      "Input: [MASK] is the capital city of Japan and [MASK] popular metropolis in the world.: 100%|██████████| 20/20 [02:40<00:00,  8.02s/it]\n",
      "Input: [MASK] is the capital city of Japan and a [MASK] metropolis in the world.:   0%|          | 0/20 [00:00<?, ?it/s]Llama.generate: prefix-match hit\n",
      "Input: [MASK] is the capital city of Japan and a [MASK] metropolis in the world.:   5%|▌         | 1/20 [00:10<03:13, 10.16s/it]Llama.generate: prefix-match hit\n",
      "Input: [MASK] is the capital city of Japan and a [MASK] metropolis in the world.:  10%|█         | 2/20 [00:17<02:29,  8.31s/it]Llama.generate: prefix-match hit\n",
      "Input: [MASK] is the capital city of Japan and a [MASK] metropolis in the world.:  15%|█▌        | 3/20 [00:22<02:00,  7.09s/it]Llama.generate: prefix-match hit\n",
      "Input: [MASK] is the capital city of Japan and a [MASK] metropolis in the world.:  20%|██        | 4/20 [00:28<01:45,  6.62s/it]Llama.generate: prefix-match hit\n",
      "Input: [MASK] is the capital city of Japan and a [MASK] metropolis in the world.:  25%|██▌       | 5/20 [00:34<01:34,  6.31s/it]Llama.generate: prefix-match hit\n",
      "Input: [MASK] is the capital city of Japan and a [MASK] metropolis in the world.:  30%|███       | 6/20 [00:43<01:43,  7.39s/it]Llama.generate: prefix-match hit\n",
      "Input: [MASK] is the capital city of Japan and a [MASK] metropolis in the world.:  35%|███▌      | 7/20 [00:49<01:28,  6.77s/it]Llama.generate: prefix-match hit\n",
      "Input: [MASK] is the capital city of Japan and a [MASK] metropolis in the world.:  40%|████      | 8/20 [00:54<01:16,  6.37s/it]Llama.generate: prefix-match hit\n",
      "Input: [MASK] is the capital city of Japan and a [MASK] metropolis in the world.:  45%|████▌     | 9/20 [01:00<01:08,  6.26s/it]Llama.generate: prefix-match hit\n",
      "Input: [MASK] is the capital city of Japan and a [MASK] metropolis in the world.:  50%|█████     | 10/20 [01:06<01:00,  6.02s/it]"
     ]
    },
    {
     "name": "stdout",
     "output_type": "stream",
     "text": [
      " Response is not valid. ['[mask]', 'is', 'the', 'capital', 'city', 'of', 'japan', 'and', 'a', '[mask]', 'metropolis', 'in', 'the', 'world'] ['tokyo', 'is', 'the', 'capital', 'city', 'of', 'japan', 'and', 'a', 'worldclass', 'metropolis']\n"
     ]
    },
    {
     "name": "stderr",
     "output_type": "stream",
     "text": [
      "Llama.generate: prefix-match hit\n",
      "Input: [MASK] is the capital city of Japan and a [MASK] metropolis in the world.:  55%|█████▌    | 11/20 [01:13<00:55,  6.19s/it]Llama.generate: prefix-match hit\n",
      "Input: [MASK] is the capital city of Japan and a [MASK] metropolis in the world.:  60%|██████    | 12/20 [01:18<00:48,  6.10s/it]Llama.generate: prefix-match hit\n",
      "Input: [MASK] is the capital city of Japan and a [MASK] metropolis in the world.:  65%|██████▌   | 13/20 [01:24<00:41,  6.00s/it]Llama.generate: prefix-match hit\n",
      "Input: [MASK] is the capital city of Japan and a [MASK] metropolis in the world.:  70%|███████   | 14/20 [01:30<00:36,  6.01s/it]Llama.generate: prefix-match hit\n",
      "Input: [MASK] is the capital city of Japan and a [MASK] metropolis in the world.:  75%|███████▌  | 15/20 [01:40<00:36,  7.25s/it]Llama.generate: prefix-match hit\n",
      "Input: [MASK] is the capital city of Japan and a [MASK] metropolis in the world.:  80%|████████  | 16/20 [01:46<00:27,  6.88s/it]Llama.generate: prefix-match hit\n",
      "Input: [MASK] is the capital city of Japan and a [MASK] metropolis in the world.:  85%|████████▌ | 17/20 [01:52<00:19,  6.61s/it]Llama.generate: prefix-match hit\n",
      "Input: [MASK] is the capital city of Japan and a [MASK] metropolis in the world.:  90%|█████████ | 18/20 [01:58<00:12,  6.45s/it]Llama.generate: prefix-match hit\n",
      "Input: [MASK] is the capital city of Japan and a [MASK] metropolis in the world.:  95%|█████████▌| 19/20 [02:05<00:06,  6.37s/it]Llama.generate: prefix-match hit\n",
      "Input: [MASK] is the capital city of Japan and a [MASK] metropolis in the world.: 100%|██████████| 20/20 [02:11<00:00,  6.57s/it]\n",
      "Input: [MASK] is the capital city of Japan and a popular [MASK] in the world.:   0%|          | 0/20 [00:00<?, ?it/s]Llama.generate: prefix-match hit\n",
      "Input: [MASK] is the capital city of Japan and a popular [MASK] in the world.:   5%|▌         | 1/20 [00:08<02:38,  8.36s/it]Llama.generate: prefix-match hit\n",
      "Input: [MASK] is the capital city of Japan and a popular [MASK] in the world.:  10%|█         | 2/20 [00:13<01:57,  6.54s/it]Llama.generate: prefix-match hit\n",
      "Input: [MASK] is the capital city of Japan and a popular [MASK] in the world.:  15%|█▌        | 3/20 [00:20<01:52,  6.62s/it]Llama.generate: prefix-match hit\n",
      "Input: [MASK] is the capital city of Japan and a popular [MASK] in the world.:  20%|██        | 4/20 [00:29<02:02,  7.67s/it]Llama.generate: prefix-match hit\n",
      "Input: [MASK] is the capital city of Japan and a popular [MASK] in the world.:  25%|██▌       | 5/20 [00:34<01:40,  6.73s/it]Llama.generate: prefix-match hit\n",
      "Input: [MASK] is the capital city of Japan and a popular [MASK] in the world.:  30%|███       | 6/20 [00:40<01:27,  6.28s/it]Llama.generate: prefix-match hit\n",
      "Input: [MASK] is the capital city of Japan and a popular [MASK] in the world.:  35%|███▌      | 7/20 [00:45<01:17,  5.98s/it]Llama.generate: prefix-match hit\n",
      "Input: [MASK] is the capital city of Japan and a popular [MASK] in the world.:  40%|████      | 8/20 [00:50<01:09,  5.77s/it]Llama.generate: prefix-match hit\n",
      "Input: [MASK] is the capital city of Japan and a popular [MASK] in the world.:  45%|████▌     | 9/20 [00:57<01:08,  6.20s/it]Llama.generate: prefix-match hit\n",
      "Input: [MASK] is the capital city of Japan and a popular [MASK] in the world.:  50%|█████     | 10/20 [01:06<01:10,  7.00s/it]Llama.generate: prefix-match hit\n",
      "Input: [MASK] is the capital city of Japan and a popular [MASK] in the world.:  55%|█████▌    | 11/20 [01:12<00:58,  6.52s/it]Llama.generate: prefix-match hit\n",
      "Input: [MASK] is the capital city of Japan and a popular [MASK] in the world.:  60%|██████    | 12/20 [01:17<00:49,  6.21s/it]Llama.generate: prefix-match hit\n",
      "Input: [MASK] is the capital city of Japan and a popular [MASK] in the world.:  65%|██████▌   | 13/20 [01:23<00:42,  6.02s/it]Llama.generate: prefix-match hit\n",
      "Input: [MASK] is the capital city of Japan and a popular [MASK] in the world.:  70%|███████   | 14/20 [01:29<00:35,  5.96s/it]Llama.generate: prefix-match hit\n",
      "Input: [MASK] is the capital city of Japan and a popular [MASK] in the world.:  75%|███████▌  | 15/20 [01:34<00:29,  5.89s/it]Llama.generate: prefix-match hit\n",
      "Input: [MASK] is the capital city of Japan and a popular [MASK] in the world.:  80%|████████  | 16/20 [01:42<00:25,  6.38s/it]Llama.generate: prefix-match hit\n",
      "Input: [MASK] is the capital city of Japan and a popular [MASK] in the world.:  85%|████████▌ | 17/20 [01:48<00:19,  6.43s/it]Llama.generate: prefix-match hit\n",
      "Input: [MASK] is the capital city of Japan and a popular [MASK] in the world.:  90%|█████████ | 18/20 [01:54<00:12,  6.17s/it]Llama.generate: prefix-match hit\n",
      "Input: [MASK] is the capital city of Japan and a popular [MASK] in the world.:  95%|█████████▌| 19/20 [02:00<00:06,  6.05s/it]Llama.generate: prefix-match hit\n",
      "Input: [MASK] is the capital city of Japan and a popular [MASK] in the world.: 100%|██████████| 20/20 [02:05<00:00,  6.29s/it]\n",
      "Input: [MASK] is the capital city of Japan and a popular metropolis [MASK] the world.:   0%|          | 0/20 [00:00<?, ?it/s]Llama.generate: prefix-match hit\n",
      "Input: [MASK] is the capital city of Japan and a popular metropolis [MASK] the world.:   5%|▌         | 1/20 [00:09<02:57,  9.34s/it]Llama.generate: prefix-match hit\n",
      "Input: [MASK] is the capital city of Japan and a popular metropolis [MASK] the world.:  10%|█         | 2/20 [00:15<02:12,  7.36s/it]Llama.generate: prefix-match hit\n",
      "Input: [MASK] is the capital city of Japan and a popular metropolis [MASK] the world.:  15%|█▌        | 3/20 [00:25<02:26,  8.59s/it]Llama.generate: prefix-match hit\n",
      "Input: [MASK] is the capital city of Japan and a popular metropolis [MASK] the world.:  20%|██        | 4/20 [00:33<02:11,  8.21s/it]Llama.generate: prefix-match hit\n",
      "Input: [MASK] is the capital city of Japan and a popular metropolis [MASK] the world.:  25%|██▌       | 5/20 [00:39<01:51,  7.45s/it]Llama.generate: prefix-match hit\n",
      "Input: [MASK] is the capital city of Japan and a popular metropolis [MASK] the world.:  30%|███       | 6/20 [00:46<01:43,  7.42s/it]Llama.generate: prefix-match hit\n",
      "Input: [MASK] is the capital city of Japan and a popular metropolis [MASK] the world.:  35%|███▌      | 7/20 [00:53<01:36,  7.40s/it]Llama.generate: prefix-match hit\n",
      "Input: [MASK] is the capital city of Japan and a popular metropolis [MASK] the world.:  40%|████      | 8/20 [01:00<01:25,  7.14s/it]Llama.generate: prefix-match hit\n",
      "Input: [MASK] is the capital city of Japan and a popular metropolis [MASK] the world.:  45%|████▌     | 9/20 [01:06<01:14,  6.78s/it]Llama.generate: prefix-match hit\n",
      "Input: [MASK] is the capital city of Japan and a popular metropolis [MASK] the world.:  50%|█████     | 10/20 [01:12<01:05,  6.55s/it]Llama.generate: prefix-match hit\n",
      "Input: [MASK] is the capital city of Japan and a popular metropolis [MASK] the world.:  55%|█████▌    | 11/20 [01:18<00:57,  6.38s/it]Llama.generate: prefix-match hit\n",
      "Input: [MASK] is the capital city of Japan and a popular metropolis [MASK] the world.:  60%|██████    | 12/20 [01:29<01:02,  7.80s/it]Llama.generate: prefix-match hit\n",
      "Input: [MASK] is the capital city of Japan and a popular metropolis [MASK] the world.:  65%|██████▌   | 13/20 [01:35<00:50,  7.28s/it]Llama.generate: prefix-match hit\n",
      "Input: [MASK] is the capital city of Japan and a popular metropolis [MASK] the world.:  70%|███████   | 14/20 [01:41<00:41,  6.92s/it]Llama.generate: prefix-match hit\n",
      "Input: [MASK] is the capital city of Japan and a popular metropolis [MASK] the world.:  75%|███████▌  | 15/20 [01:47<00:33,  6.67s/it]Llama.generate: prefix-match hit\n",
      "Input: [MASK] is the capital city of Japan and a popular metropolis [MASK] the world.:  80%|████████  | 16/20 [01:54<00:26,  6.56s/it]Llama.generate: prefix-match hit\n",
      "Input: [MASK] is the capital city of Japan and a popular metropolis [MASK] the world.:  85%|████████▌ | 17/20 [02:00<00:19,  6.39s/it]Llama.generate: prefix-match hit\n",
      "Input: [MASK] is the capital city of Japan and a popular metropolis [MASK] the world.:  90%|█████████ | 18/20 [02:06<00:12,  6.31s/it]Llama.generate: prefix-match hit\n",
      "Input: [MASK] is the capital city of Japan and a popular metropolis [MASK] the world.:  95%|█████████▌| 19/20 [02:13<00:06,  6.54s/it]Llama.generate: prefix-match hit\n",
      "Input: [MASK] is the capital city of Japan and a popular metropolis [MASK] the world.: 100%|██████████| 20/20 [02:21<00:00,  7.05s/it]\n",
      "Input: [MASK] is the capital city of Japan and a popular metropolis in [MASK] world.:   0%|          | 0/20 [00:00<?, ?it/s]Llama.generate: prefix-match hit\n",
      "Input: [MASK] is the capital city of Japan and a popular metropolis in [MASK] world.:   5%|▌         | 1/20 [00:09<03:01,  9.53s/it]Llama.generate: prefix-match hit\n",
      "Input: [MASK] is the capital city of Japan and a popular metropolis in [MASK] world.:  10%|█         | 2/20 [00:15<02:13,  7.40s/it]Llama.generate: prefix-match hit\n",
      "Input: [MASK] is the capital city of Japan and a popular metropolis in [MASK] world.:  15%|█▌        | 3/20 [00:22<02:00,  7.08s/it]Llama.generate: prefix-match hit\n",
      "Input: [MASK] is the capital city of Japan and a popular metropolis in [MASK] world.:  20%|██        | 4/20 [00:28<01:51,  6.99s/it]Llama.generate: prefix-match hit\n",
      "Input: [MASK] is the capital city of Japan and a popular metropolis in [MASK] world.:  25%|██▌       | 5/20 [00:35<01:42,  6.82s/it]Llama.generate: prefix-match hit\n",
      "Input: [MASK] is the capital city of Japan and a popular metropolis in [MASK] world.:  30%|███       | 6/20 [00:41<01:32,  6.63s/it]Llama.generate: prefix-match hit\n",
      "Input: [MASK] is the capital city of Japan and a popular metropolis in [MASK] world.:  35%|███▌      | 7/20 [00:48<01:25,  6.54s/it]Llama.generate: prefix-match hit\n",
      "Input: [MASK] is the capital city of Japan and a popular metropolis in [MASK] world.:  40%|████      | 8/20 [00:54<01:17,  6.44s/it]Llama.generate: prefix-match hit\n",
      "Input: [MASK] is the capital city of Japan and a popular metropolis in [MASK] world.:  45%|████▌     | 9/20 [01:07<01:33,  8.50s/it]Llama.generate: prefix-match hit\n",
      "Input: [MASK] is the capital city of Japan and a popular metropolis in [MASK] world.:  50%|█████     | 10/20 [01:13<01:17,  7.73s/it]Llama.generate: prefix-match hit\n",
      "Input: [MASK] is the capital city of Japan and a popular metropolis in [MASK] world.:  55%|█████▌    | 11/20 [01:21<01:09,  7.73s/it]Llama.generate: prefix-match hit\n",
      "Input: [MASK] is the capital city of Japan and a popular metropolis in [MASK] world.:  60%|██████    | 12/20 [01:27<00:59,  7.44s/it]Llama.generate: prefix-match hit\n",
      "Input: [MASK] is the capital city of Japan and a popular metropolis in [MASK] world.:  65%|██████▌   | 13/20 [01:34<00:49,  7.06s/it]"
     ]
    },
    {
     "name": "stdout",
     "output_type": "stream",
     "text": [
      " Response is not valid. ['[mask]', 'is', 'the', 'capital', 'city', 'of', 'japan', 'and', 'a', 'popular', 'metropolis', 'in', '[mask]', 'world'] ['tokyo', 'is', 'the', 'capital', 'city', 'of', 'japan', 'and', 'a', 'popular', 'metropolis', 'in', 'asia']\n"
     ]
    },
    {
     "name": "stderr",
     "output_type": "stream",
     "text": [
      "Llama.generate: prefix-match hit\n",
      "Input: [MASK] is the capital city of Japan and a popular metropolis in [MASK] world.:  70%|███████   | 14/20 [01:40<00:41,  6.93s/it]Llama.generate: prefix-match hit\n",
      "Input: [MASK] is the capital city of Japan and a popular metropolis in [MASK] world.:  75%|███████▌  | 15/20 [01:46<00:33,  6.65s/it]Llama.generate: prefix-match hit\n",
      "Input: [MASK] is the capital city of Japan and a popular metropolis in [MASK] world.:  80%|████████  | 16/20 [01:53<00:26,  6.64s/it]Llama.generate: prefix-match hit\n",
      "Input: [MASK] is the capital city of Japan and a popular metropolis in [MASK] world.:  85%|████████▌ | 17/20 [02:04<00:23,  7.90s/it]Llama.generate: prefix-match hit\n",
      "Input: [MASK] is the capital city of Japan and a popular metropolis in [MASK] world.:  90%|█████████ | 18/20 [02:10<00:14,  7.40s/it]Llama.generate: prefix-match hit\n",
      "Input: [MASK] is the capital city of Japan and a popular metropolis in [MASK] world.:  95%|█████████▌| 19/20 [02:17<00:07,  7.16s/it]Llama.generate: prefix-match hit\n",
      "Input: [MASK] is the capital city of Japan and a popular metropolis in [MASK] world.: 100%|██████████| 20/20 [02:23<00:00,  7.19s/it]\n",
      "Input: [MASK] is the capital city of Japan and a popular metropolis in the [MASK]:   0%|          | 0/20 [00:00<?, ?it/s]Llama.generate: prefix-match hit\n",
      "Input: [MASK] is the capital city of Japan and a popular metropolis in the [MASK]:   5%|▌         | 1/20 [00:10<03:21, 10.60s/it]Llama.generate: prefix-match hit\n",
      "Input: [MASK] is the capital city of Japan and a popular metropolis in the [MASK]:  10%|█         | 2/20 [00:27<04:20, 14.45s/it]Llama.generate: prefix-match hit\n",
      "Input: [MASK] is the capital city of Japan and a popular metropolis in the [MASK]:  15%|█▌        | 3/20 [00:34<03:05, 10.92s/it]Llama.generate: prefix-match hit\n",
      "Input: [MASK] is the capital city of Japan and a popular metropolis in the [MASK]:  20%|██        | 4/20 [00:41<02:29,  9.37s/it]Llama.generate: prefix-match hit\n",
      "Input: [MASK] is the capital city of Japan and a popular metropolis in the [MASK]:  25%|██▌       | 5/20 [00:53<02:32, 10.20s/it]Llama.generate: prefix-match hit\n",
      "Input: [MASK] is the capital city of Japan and a popular metropolis in the [MASK]:  30%|███       | 6/20 [01:01<02:12,  9.44s/it]Llama.generate: prefix-match hit\n",
      "Input: [MASK] is the capital city of Japan and a popular metropolis in the [MASK]:  35%|███▌      | 7/20 [01:07<01:50,  8.47s/it]Llama.generate: prefix-match hit\n",
      "Input: [MASK] is the capital city of Japan and a popular metropolis in the [MASK]:  40%|████      | 8/20 [01:14<01:34,  7.90s/it]Llama.generate: prefix-match hit\n",
      "Input: [MASK] is the capital city of Japan and a popular metropolis in the [MASK]:  45%|████▌     | 9/20 [01:20<01:21,  7.37s/it]Llama.generate: prefix-match hit\n",
      "Input: [MASK] is the capital city of Japan and a popular metropolis in the [MASK]:  50%|█████     | 10/20 [01:27<01:13,  7.33s/it]Llama.generate: prefix-match hit\n",
      "Input: [MASK] is the capital city of Japan and a popular metropolis in the [MASK]:  55%|█████▌    | 11/20 [01:33<01:00,  6.74s/it]Llama.generate: prefix-match hit\n",
      "Input: [MASK] is the capital city of Japan and a popular metropolis in the [MASK]:  60%|██████    | 12/20 [01:44<01:04,  8.12s/it]Llama.generate: prefix-match hit\n",
      "Input: [MASK] is the capital city of Japan and a popular metropolis in the [MASK]:  65%|██████▌   | 13/20 [01:50<00:52,  7.52s/it]Llama.generate: prefix-match hit\n",
      "Input: [MASK] is the capital city of Japan and a popular metropolis in the [MASK]:  70%|███████   | 14/20 [01:57<00:44,  7.49s/it]Llama.generate: prefix-match hit\n",
      "Input: [MASK] is the capital city of Japan and a popular metropolis in the [MASK]:  75%|███████▌  | 15/20 [02:03<00:35,  7.06s/it]Llama.generate: prefix-match hit\n",
      "Input: [MASK] is the capital city of Japan and a popular metropolis in the [MASK]:  80%|████████  | 16/20 [02:11<00:29,  7.34s/it]Llama.generate: prefix-match hit\n",
      "Input: [MASK] is the capital city of Japan and a popular metropolis in the [MASK]:  85%|████████▌ | 17/20 [02:18<00:21,  7.11s/it]Llama.generate: prefix-match hit\n",
      "Input: [MASK] is the capital city of Japan and a popular metropolis in the [MASK]:  90%|█████████ | 18/20 [02:25<00:14,  7.13s/it]Llama.generate: prefix-match hit\n",
      "Input: [MASK] is the capital city of Japan and a popular metropolis in the [MASK]:  95%|█████████▌| 19/20 [02:32<00:06,  6.93s/it]Llama.generate: prefix-match hit\n",
      "Input: [MASK] is the capital city of Japan and a popular metropolis in the [MASK]: 100%|██████████| 20/20 [02:39<00:00,  8.00s/it]\n"
     ]
    }
   ],
   "source": [
    "from tools.command_generator import generate_prompts, prefix_prompt\n",
    "from tools.evaluate_response import get_replacements\n",
    "from tqdm import tqdm\n",
    "# takes 23 minutes to run with the sentence I wrote. Make a shorter sentence to run faster.\n",
    "# out comment this when the code has run once and you saved the responses.\n",
    "\n",
    "def run_prompts(model, sentence, anchor_idx, prompts_per_word=20):\n",
    "    prompts = generate_prompts(sentence, anchor_idx)\n",
    "    all_replacements = []\n",
    "    for prompt in prompts:\n",
    "        replacements = []\n",
    "        for _ in tqdm(\n",
    "            range(prompts_per_word),\n",
    "            desc=f\"Input: {prompt}\",\n",
    "        ):\n",
    "            response = model.get_response(\n",
    "                prefix_prompt(prompt),\n",
    "            ).strip()\n",
    "            if response:\n",
    "                replacement = get_replacements(prompt, response)\n",
    "                if replacement:\n",
    "                    replacements.append(replacement)\n",
    "        if len(replacements) > 0:\n",
    "            all_replacements.append(replacements)\n",
    "    return all_replacements\n",
    "\n",
    "all_responses = run_prompts(model, sentence, anchor_word_idx, prompts_per_word)\n"
   ]
  },
  {
   "cell_type": "code",
   "execution_count": 37,
   "metadata": {},
   "outputs": [
    {
     "name": "stdout",
     "output_type": "stream",
     "text": [
      "[[['tokyo', 'is'], ['tokyo', 'is'], ['tokyo', 'is'], ['tokyo', 'tokyo is'], ['tokyo', 'is'], ['tokyo', 'is'], ['tokyo', 'is'], ['tokyo', 'tokyo is'], ['tokyo', 'is'], ['tokyo', 'is'], ['tokyo', 'is'], ['tokyo', 'is'], ['tokyo', 'is'], ['tokyo', 'is'], ['tokyo', 'is'], ['tokyo', 'is'], ['tokyo', 'is'], ['tokyo', 'is'], ['tokyo', 'is'], ['tokyo', 'is']], [['tokyo', 'tokyos'], ['tokyo', 'tokyos'], ['tokyo', 'tokyos'], ['tokyo', 'the'], ['tokyo', 'tokyos'], ['', ''], ['', ''], ['tokyo', 'the'], ['tokyo', 'tokyos'], ['tokyo', 'the'], ['', ''], ['tokyo', 'the'], ['tokyo', 'tokyos'], ['', ''], ['tokyo', 'tokyos'], ['', ''], ['', ''], ['', ''], ['tokyo', 'tokyos'], ['', '']], [['tokyo', 'bustling metropolis of japan and a popular'], ['tokyo', 'largest'], ['tokyo', 'capital'], ['osaka', 'second largest'], ['tokyo', 'capital'], ['tokyo', 'vibrant'], ['osaka', 'second largest'], ['tokyo', 'capital'], ['tokyo', 'largest'], ['tokyo', 'most populous'], ['tokyo', 'largest'], ['tokyo', 'largest'], ['tokyo', 'capital'], ['tokyo', 'capital'], ['tokyo', 'bustling'], ['tokyo', 'capital'], ['tokyo', 'capital'], ['tokyo', 'bustling capital'], ['osaka', 'second largest'], ['tokyo', 'largest']], [['tokyo', 'city'], ['tokyo', ''], ['tokyo', 'city'], ['tokyo', 'city'], ['tokyo', 'tokyo'], ['tokyo', ''], ['tokyo', 'tokyo'], ['tokyo', 'city'], ['tokyo', ''], ['tokyo', 'tokyo'], ['tokyo', ''], ['tokyo', ''], ['tokyo', ''], ['tokyo', ''], ['tokyo', 'tokyo'], ['tokyo', ''], ['tokyo', ''], ['tokyo', 'city'], ['tokyo', 'city'], ['tokyo', 'tokyo']], [['tokyo', 'of'], ['tokyo', 'of'], ['tokyo', 'of'], ['tokyo', 'of'], ['tokyo', 'of'], ['tokyo', 'of'], ['tokyo', 'of'], ['tokyo', 'of'], ['tokyo', 'of'], ['tokyo', 'of'], ['tokyo', 'of'], ['tokyo', 'of'], ['tokyo', 'of'], ['tokyo', 'of'], ['tokyo', 'of'], ['tokyo', 'of'], ['tokyo', 'of'], ['tokyo', 'of'], ['tokyo', 'of'], ['tokyo', 'of']], [['paris', 'france'], ['tokyo', 'japan'], ['paris', 'france'], ['paris', 'france'], ['tokyo', 'japan'], ['tokyo', 'japan'], ['paris', 'france'], ['tokyo', 'japan'], ['tokyo', 'japan'], ['paris', 'france'], ['tokyo', 'japan'], ['tokyo', 'japan'], ['paris', 'france'], ['tokyo', 'japan'], ['tokyo', 'japan'], ['paris', 'france'], ['paris', 'france'], ['paris', 'france'], ['new delhi', 'india'], ['tokyo', 'japan']], [['tokyo', 'and'], ['tokyo', 'and'], ['tokyo', 'its'], ['tokyo', 'and it is'], ['tokyo', 'and its also'], ['tokyo', 'it is also'], ['tokyo', ''], ['tokyo', 'it is'], ['tokyo', 'it is'], ['tokyo', 'and'], ['tokyo', 'and it is'], ['tokyo', 'and'], ['tokyo', 'and it is'], ['tokyo', 'it is'], ['tokyo', 'and it is'], ['tokyo', 'it is'], ['tokyo', 'it is also'], ['tokyo', 'it is'], ['tokyo', 'and its'], ['tokyo', 'it is also']], [['tokyo', 'new york city is a'], ['tokyo', 'paris is a'], ['tokyo', 'new york city is a'], ['tokyo', 'new york is a'], ['tokyo', 'new york city is a'], ['tokyo', 'new york city is a'], ['tokyo', 'new york city is a'], ['tokyo', 'new york is a'], ['tokyo', 'new york city is a'], ['tokyo', 'new york is a'], ['tokyo', 'new york city is a'], ['tokyo', 'tokyo is a'], ['tokyo', 'new york is a'], ['tokyo', 'new york city is a'], ['tokyo', 'new york city is a'], ['tokyo', 'tokyo is a'], ['tokyo', 'new york is a'], ['tokyo', 'new york city is a'], ['tokyo', 'new york city is a'], ['tokyo', 'new york is a']], [['tokyo', 'bustling'], ['tokyo', 'bustling'], ['tokyo', 'magnificent'], ['tokyo', 'bustling'], ['tokyo', 'bustling'], ['tokyo', 'bustling'], ['tokyo', 'magnificent'], ['tokyo', 'global'], ['tokyo', 'bustling'], ['', ''], ['tokyo', 'bustling'], ['tokyo', 'bustling'], ['tokyo', 'bustling'], ['tokyo', 'vibrant'], ['tokyo', 'bustling'], ['tokyo', 'bustling'], ['tokyo', 'bustling'], ['tokyo', 'bustling'], ['tokyo', 'vibrant'], ['tokyo', 'bustling']], [['tokyo', 'destination'], ['tokyo', 'tourist destination'], ['tokyo', 'tourist destination'], ['tokyo', 'tourist destination'], ['tokyo', 'tourist destination'], ['tokyo', 'tourist destination'], ['tokyo', 'tourist destination'], ['tokyo', 'tourist destination'], ['tokyo', 'tourist destination'], ['tokyo', 'tourist destination'], ['tokyo', 'tourist destination'], ['tokyo', 'tourist destination'], ['tokyo', 'tourist destination'], ['tokyo', 'tourist destination'], ['tokyo', 'tourist destination'], ['tokyo', 'tourist destination'], ['tokyo', 'tourist destination'], ['tokyo', 'tourist destination'], ['tokyo', 'travel destination'], ['tokyo', 'travel destination']], [['tokyo', 'in'], ['tokyo', 'of'], ['tokyo', 'in'], ['tokyo', 'known around'], ['tokyo', 'in'], ['tokyo', 'in'], ['tokyo', 'in'], ['tokyo', 'in'], ['tokyo', 'in'], ['tokyo', 'in'], ['tokyo', 'in'], ['tokyo', '[mask]'], ['tokyo', 'of'], ['tokyo', 'in'], ['tokyo', 'in'], ['tokyo', 'in'], ['tokyo', 'in'], ['tokyo', 'in'], ['tokyo', 'in'], ['tokyo', 'in']], [['tokyo', 'asias'], ['tokyo', 'asian'], ['tokyo', 'asias'], ['tokyo', 'the east asian'], ['tokyo', 'asias'], ['tokyo', 'the east asian'], ['tokyo', 'asias'], ['tokyo', 'our'], ['tokyo', 'asias'], ['tokyo', 'our'], ['tokyo', 'east asias'], ['tokyo', 'asias'], ['', ''], ['tokyo', 'asias'], ['tokyo', 'our'], ['tokyo', 'asias'], ['tokyo', 'asias'], ['tokyo', 'our'], ['tokyo', 'asias'], ['tokyo', 'asias']], [['tokyo', 'asiapacific region'], ['tokyo', 'asiapacific region'], ['tokyo', 'east'], ['tokyo', 'kanto region'], ['tokyo', 'kantō region'], ['tokyo', 'asia region'], ['tokyo', '[asia]'], ['tokyo', 'east'], ['tokyo', 'kanto region'], ['tokyo', 'kanto region'], ['tokyo', 'east'], ['tokyo', 'east'], ['tokyo', 'asian continent'], ['tokyo', 'asiapacific region'], ['tokyo', 'east'], ['tokyo', 'kanto region'], ['tokyo', 'kanto region'], ['tokyo', 'asiapacific region'], ['tokyo', 'kanto region'], ['tokyo', 'asiapacific region']]]\n"
     ]
    }
   ],
   "source": [
    "# out comment this when the code has run once and you saved the responses.\n",
    "\n",
    "print(all_responses)\n",
    "# save the responses to a file\n",
    "with open(\"responses_Japan.txt\", \"w\") as f:\n",
    "    f.write(str(all_responses))\n"
   ]
  },
  {
   "cell_type": "code",
   "execution_count": 60,
   "metadata": {},
   "outputs": [
    {
     "name": "stdout",
     "output_type": "stream",
     "text": [
      "[[['the fox', 'fox'], ['the', 'fox'], ['fox', 'fox'], ['', 'fox'], ['fox', 'fox'], ['the', 'fox'], ['fox', 'fox'], ['the', 'fox'], ['fox', 'fox'], ['fox', 'fox'], ['', ''], ['the', 'fox'], ['the', 'fox'], ['the swift', 'fox'], ['', 'fox'], ['the', 'fox'], ['the fox', 'fox'], ['', 'fox'], ['the', 'fox'], ['the', 'fox']], [['fox', 'rabbit'], ['friendly', 'cat'], ['clever', 'rabbit'], ['gray', 'cat'], ['quick', 'fox'], ['', ''], ['quick', 'fox'], ['', ''], ['black', 'cat'], ['quick', 'fox'], ['quick', 'fox'], ['fox', 'fox'], ['yellow', 'cat'], ['yellow', 'cat'], ['little', 'cat'], ['yellow', 'fox'], ['fox', 'vixen'], ['old', 'cat'], ['tiny', 'frog'], ['feline', 'cat']], [['', ''], ['brown', 'fox'], ['brown', 'fox'], ['brown', 'fox'], ['brown', 'fox'], ['brown', 'fox'], ['fox', 'cleverly'], ['brown', 'fox'], ['fox', '[mask]'], ['brown', 'fox'], ['brown', 'fox'], ['brown', 'fox'], ['brown', 'fox'], ['fox', '[mask]'], ['brown', 'fox'], ['brown', 'fox'], ['brown', 'fox'], ['brown', 'fox'], ['', ''], ['brown', 'fox']], [['fox', 'jumps'], ['fox', 'jumps'], ['fox', 'jumps'], ['fox', 'jumps'], ['fox', 'jumps'], ['fox', 'jumps'], ['fox', 'jumps'], ['fox', 'jumps'], ['fox', 'jumps'], ['fox', '[leaps]'], ['fox', 'jumps'], ['fox', 'jumps'], ['fox', 'jumped'], ['fox', '[jumps]'], ['fox', 'jumps'], ['fox', 'jumps'], ['fox', 'jumps'], ['fox', 'jumps'], ['fox', 'jumps'], ['fox', 'jumps']], [['fox', 'over'], ['fox', 'over'], ['fox', 'over'], ['fox', 'over'], ['fox', 'over'], ['fox', 'over'], ['fox', 'over'], ['fox', 'over'], ['fox', 'over'], ['fox', 'over'], ['fox', 'over'], ['fox', 'over'], ['fox', 'over'], ['fox', 'over'], ['fox', 'over'], ['fox', 'over'], ['fox', 'over'], ['fox', 'over'], ['fox', 'over'], ['fox', 'over']], [['fox', 'the'], ['fox', 'the'], ['fox', 'the'], ['fox', ''], ['fox', ''], ['fox', 'the'], ['fox', 'the'], ['fox', ''], ['fox', 'the'], ['fox', 'the'], ['fox', 'the'], ['fox', 'the'], ['fox', ''], ['fox', 'the'], ['fox', ''], ['fox', 'the'], ['fox', ''], ['fox', 'a'], ['fox', 'the'], ['fox', '']], [['fox', 'lazy'], ['fox', 'lazy'], ['fox', 'lazy'], ['fox', 'sleeping'], ['fox', 'lazy'], ['fox', 'lazy'], ['fox', 'lazy'], ['fox', 'lazy'], ['fox', 'lazy'], ['fox', 'sleeping'], ['fox', 'lazy'], ['fox', 'lazy'], ['fox', 'lazy'], ['fox', 'lazy'], ['fox', 'lazy'], ['fox', 'lazy'], ['fox', 'lazy'], ['fox', 'lazy'], ['fox', 'lazy'], ['fox', 'lazy']], [['fox', 'dog'], ['fox', 'dog'], ['fox', 'dog'], ['dog', 'cat'], ['dog', 'fox'], ['dog', 'cat'], ['fox', 'dog'], ['fox', 'dog'], ['fox', 'dog'], ['fox', 'dog'], ['fox', 'dog'], ['fox', 'dog'], ['fox', 'dog'], ['fox', 'dog'], ['fox', 'dog'], ['fox', 'dog'], ['', ''], ['dog', 'fox'], ['fox', 'dog'], ['fox', 'dog']]]\n"
     ]
    }
   ],
   "source": [
    "# just overwring the response and sentence if you chose to change it. You can change it to your sentence and configurations.\n",
    "\n",
    "# load the responses from a file\n",
    "with open(\"responses_Fox_and_Dog.txt\", \"r\") as f:\n",
    "    all_responses = eval(f.read())\n",
    "\n",
    "sentence = \"the quick brown fox jumps over the lazy dog\"\n",
    "anchor_word_idx = 3 # the index of the interested word\n",
    "prompts_per_word = 20 # number of generated responses  \n",
    "\n",
    "print(all_responses)"
   ]
  },
  {
   "cell_type": "code",
   "execution_count": 61,
   "metadata": {},
   "outputs": [
    {
     "name": "stdout",
     "output_type": "stream",
     "text": [
      "[[['the fox', 'fox'], ['the', 'fox'], ['fox', 'fox'], ['', 'fox'], ['fox', 'fox'], ['the', 'fox'], ['fox', 'fox'], ['the', 'fox'], ['fox', 'fox'], ['fox', 'fox'], ['', ''], ['the', 'fox'], ['the', 'fox'], ['the swift', 'fox'], ['', 'fox'], ['the', 'fox'], ['the fox', 'fox'], ['', 'fox'], ['the', 'fox'], ['the', 'fox']], [['fox', 'rabbit'], ['friendly', 'cat'], ['clever', 'rabbit'], ['gray', 'cat'], ['quick', 'fox'], ['', ''], ['quick', 'fox'], ['', ''], ['black', 'cat'], ['quick', 'fox'], ['quick', 'fox'], ['fox', 'fox'], ['yellow', 'cat'], ['yellow', 'cat'], ['little', 'cat'], ['yellow', 'fox'], ['fox', 'vixen'], ['old', 'cat'], ['tiny', 'frog'], ['feline', 'cat']], [['', ''], ['brown', 'fox'], ['brown', 'fox'], ['brown', 'fox'], ['brown', 'fox'], ['brown', 'fox'], ['fox', 'cleverly'], ['brown', 'fox'], ['fox', '[mask]'], ['brown', 'fox'], ['brown', 'fox'], ['brown', 'fox'], ['brown', 'fox'], ['fox', '[mask]'], ['brown', 'fox'], ['brown', 'fox'], ['brown', 'fox'], ['brown', 'fox'], ['', ''], ['brown', 'fox']], [['fox', 'jumps'], ['fox', 'jumps'], ['fox', 'jumps'], ['fox', 'jumps'], ['fox', 'jumps'], ['fox', 'jumps'], ['fox', 'jumps'], ['fox', 'jumps'], ['fox', 'jumps'], ['fox', '[leaps]'], ['fox', 'jumps'], ['fox', 'jumps'], ['fox', 'jumped'], ['fox', '[jumps]'], ['fox', 'jumps'], ['fox', 'jumps'], ['fox', 'jumps'], ['fox', 'jumps'], ['fox', 'jumps'], ['fox', 'jumps']], [['fox', 'over'], ['fox', 'over'], ['fox', 'over'], ['fox', 'over'], ['fox', 'over'], ['fox', 'over'], ['fox', 'over'], ['fox', 'over'], ['fox', 'over'], ['fox', 'over'], ['fox', 'over'], ['fox', 'over'], ['fox', 'over'], ['fox', 'over'], ['fox', 'over'], ['fox', 'over'], ['fox', 'over'], ['fox', 'over'], ['fox', 'over'], ['fox', 'over']], [['fox', 'the'], ['fox', 'the'], ['fox', 'the'], ['fox', ''], ['fox', ''], ['fox', 'the'], ['fox', 'the'], ['fox', ''], ['fox', 'the'], ['fox', 'the'], ['fox', 'the'], ['fox', 'the'], ['fox', ''], ['fox', 'the'], ['fox', ''], ['fox', 'the'], ['fox', ''], ['fox', 'a'], ['fox', 'the'], ['fox', '']], [['fox', 'lazy'], ['fox', 'lazy'], ['fox', 'lazy'], ['fox', 'sleeping'], ['fox', 'lazy'], ['fox', 'lazy'], ['fox', 'lazy'], ['fox', 'lazy'], ['fox', 'lazy'], ['fox', 'sleeping'], ['fox', 'lazy'], ['fox', 'lazy'], ['fox', 'lazy'], ['fox', 'lazy'], ['fox', 'lazy'], ['fox', 'lazy'], ['fox', 'lazy'], ['fox', 'lazy'], ['fox', 'lazy'], ['fox', 'lazy']], [['fox', 'dog'], ['fox', 'dog'], ['fox', 'dog'], ['dog', 'cat'], ['dog', 'fox'], ['dog', 'cat'], ['fox', 'dog'], ['fox', 'dog'], ['fox', 'dog'], ['fox', 'dog'], ['fox', 'dog'], ['fox', 'dog'], ['fox', 'dog'], ['fox', 'dog'], ['fox', 'dog'], ['fox', 'dog'], ['', ''], ['dog', 'fox'], ['fox', 'dog'], ['fox', 'dog']]]\n",
      "8\n",
      "[['the fox', 'fox'], ['the', 'fox'], ['fox', 'fox'], ['', 'fox'], ['fox', 'fox'], ['the', 'fox'], ['fox', 'fox'], ['the', 'fox'], ['fox', 'fox'], ['fox', 'fox'], ['', ''], ['the', 'fox'], ['the', 'fox'], ['the swift', 'fox'], ['', 'fox'], ['the', 'fox'], ['the fox', 'fox'], ['', 'fox'], ['the', 'fox'], ['the', 'fox']]\n",
      "20\n",
      "['the fox', 'fox']\n",
      "2\n",
      "[['fox', 'dog'], ['fox', 'dog'], ['fox', 'dog'], ['dog', 'cat'], ['dog', 'fox'], ['dog', 'cat'], ['fox', 'dog'], ['fox', 'dog'], ['fox', 'dog'], ['fox', 'dog'], ['fox', 'dog'], ['fox', 'dog'], ['fox', 'dog'], ['fox', 'dog'], ['fox', 'dog'], ['fox', 'dog'], ['', ''], ['dog', 'fox'], ['fox', 'dog'], ['fox', 'dog']]\n",
      "20\n",
      "['fox', 'dog']\n",
      "2\n",
      "[['fox', 'lazy'], ['fox', 'lazy'], ['fox', 'lazy'], ['fox', 'sleeping'], ['fox', 'lazy'], ['fox', 'lazy'], ['fox', 'lazy'], ['fox', 'lazy'], ['fox', 'lazy'], ['fox', 'sleeping'], ['fox', 'lazy'], ['fox', 'lazy'], ['fox', 'lazy'], ['fox', 'lazy'], ['fox', 'lazy'], ['fox', 'lazy'], ['fox', 'lazy'], ['fox', 'lazy'], ['fox', 'lazy'], ['fox', 'lazy']]\n",
      "20\n",
      "['fox', 'lazy']\n",
      "2\n"
     ]
    },
    {
     "data": {
      "text/plain": [
       "'\\nprint(all_responses)\\nprint(len(all_responses))\\nprint(all_responses[8])\\nprint(len(all_responses[8]))\\nprint(all_responses[8][0])\\nprint(len(all_responses[8][0]))\\n'"
      ]
     },
     "execution_count": 61,
     "metadata": {},
     "output_type": "execute_result"
    }
   ],
   "source": [
    "print(all_responses)\n",
    "print(len(all_responses))\n",
    "print(all_responses[0])\n",
    "print(len(all_responses[0]))\n",
    "print(all_responses[0][0])\n",
    "print(len(all_responses[0][0]))\n",
    "\n",
    "\n",
    "print(all_responses[7])\n",
    "print(len(all_responses[7]))\n",
    "print(all_responses[7][0])\n",
    "print(len(all_responses[7][0]))\n",
    "\n",
    "\n",
    "\n",
    "print(all_responses[6])\n",
    "print(len(all_responses[6]))\n",
    "print(all_responses[6][0])\n",
    "print(len(all_responses[6][0]))\n",
    "\n",
    "# out of range because the sentence has 9 words, but this is exclusive the original masked word word\n",
    "\"\"\"\n",
    "print(all_responses)\n",
    "print(len(all_responses))\n",
    "print(all_responses[8])\n",
    "print(len(all_responses[8]))\n",
    "print(all_responses[8][0])\n",
    "print(len(all_responses[8][0]))\n",
    "\"\"\" "
   ]
  },
  {
   "cell_type": "markdown",
   "metadata": {},
   "source": [
    "> We are looking at the sentence \"The quick brown fox jumps over the lazy dog\".\n",
    "> We start by masking the word 'fox'. \n",
    "> The first index in the all_responses corresponds to the word index in the sentence (exclusive the masked word ('fox)). Thus index 2 corresponds to the word 'brown' and the index 4 corresponds to the word 'jumps'.\n",
    "> We then mask the word with the index i and generate 20 responses for the two masked words in the sentence thus the second index in all responses corresponds each of these 20 generated responses.\n",
    ">\n",
    "> The responses are given in the order of the words in the sentence. So even though we mask out the word x='fox' in the sentence, the response for this word changes when we move from the left side of the sentence to the right side.\n",
    ">For index 0 the output is given as [y,x] = ['the', 'fox'] \n",
    ">For index 7 the output is given as [x,y] = ['fox', 'dog']"
   ]
  },
  {
   "cell_type": "code",
   "execution_count": 62,
   "metadata": {},
   "outputs": [
    {
     "name": "stdout",
     "output_type": "stream",
     "text": [
      "[[['tokyo', 'is'], ['tokyo', 'is'], ['tokyo', 'is'], ['tokyo', 'tokyo is'], ['tokyo', 'is'], ['tokyo', 'is'], ['tokyo', 'is'], ['tokyo', 'tokyo is'], ['tokyo', 'is'], ['tokyo', 'is'], ['tokyo', 'is'], ['tokyo', 'is'], ['tokyo', 'is'], ['tokyo', 'is'], ['tokyo', 'is'], ['tokyo', 'is'], ['tokyo', 'is'], ['tokyo', 'is'], ['tokyo', 'is'], ['tokyo', 'is']], [['tokyo', 'tokyos'], ['tokyo', 'tokyos'], ['tokyo', 'tokyos'], ['tokyo', 'the'], ['tokyo', 'tokyos'], ['', ''], ['', ''], ['tokyo', 'the'], ['tokyo', 'tokyos'], ['tokyo', 'the'], ['', ''], ['tokyo', 'the'], ['tokyo', 'tokyos'], ['', ''], ['tokyo', 'tokyos'], ['', ''], ['', ''], ['', ''], ['tokyo', 'tokyos'], ['', '']], [['tokyo', 'bustling metropolis of japan and a popular'], ['tokyo', 'largest'], ['tokyo', 'capital'], ['osaka', 'second largest'], ['tokyo', 'capital'], ['tokyo', 'vibrant'], ['osaka', 'second largest'], ['tokyo', 'capital'], ['tokyo', 'largest'], ['tokyo', 'most populous'], ['tokyo', 'largest'], ['tokyo', 'largest'], ['tokyo', 'capital'], ['tokyo', 'capital'], ['tokyo', 'bustling'], ['tokyo', 'capital'], ['tokyo', 'capital'], ['tokyo', 'bustling capital'], ['osaka', 'second largest'], ['tokyo', 'largest']], [['tokyo', 'city'], ['tokyo', ''], ['tokyo', 'city'], ['tokyo', 'city'], ['tokyo', 'tokyo'], ['tokyo', ''], ['tokyo', 'tokyo'], ['tokyo', 'city'], ['tokyo', ''], ['tokyo', 'tokyo'], ['tokyo', ''], ['tokyo', ''], ['tokyo', ''], ['tokyo', ''], ['tokyo', 'tokyo'], ['tokyo', ''], ['tokyo', ''], ['tokyo', 'city'], ['tokyo', 'city'], ['tokyo', 'tokyo']], [['tokyo', 'of'], ['tokyo', 'of'], ['tokyo', 'of'], ['tokyo', 'of'], ['tokyo', 'of'], ['tokyo', 'of'], ['tokyo', 'of'], ['tokyo', 'of'], ['tokyo', 'of'], ['tokyo', 'of'], ['tokyo', 'of'], ['tokyo', 'of'], ['tokyo', 'of'], ['tokyo', 'of'], ['tokyo', 'of'], ['tokyo', 'of'], ['tokyo', 'of'], ['tokyo', 'of'], ['tokyo', 'of'], ['tokyo', 'of']], [['paris', 'france'], ['tokyo', 'japan'], ['paris', 'france'], ['paris', 'france'], ['tokyo', 'japan'], ['tokyo', 'japan'], ['paris', 'france'], ['tokyo', 'japan'], ['tokyo', 'japan'], ['paris', 'france'], ['tokyo', 'japan'], ['tokyo', 'japan'], ['paris', 'france'], ['tokyo', 'japan'], ['tokyo', 'japan'], ['paris', 'france'], ['paris', 'france'], ['paris', 'france'], ['new delhi', 'india'], ['tokyo', 'japan']], [['tokyo', 'and'], ['tokyo', 'and'], ['tokyo', 'its'], ['tokyo', 'and it is'], ['tokyo', 'and its also'], ['tokyo', 'it is also'], ['tokyo', ''], ['tokyo', 'it is'], ['tokyo', 'it is'], ['tokyo', 'and'], ['tokyo', 'and it is'], ['tokyo', 'and'], ['tokyo', 'and it is'], ['tokyo', 'it is'], ['tokyo', 'and it is'], ['tokyo', 'it is'], ['tokyo', 'it is also'], ['tokyo', 'it is'], ['tokyo', 'and its'], ['tokyo', 'it is also']], [['tokyo', 'new york city is a'], ['tokyo', 'paris is a'], ['tokyo', 'new york city is a'], ['tokyo', 'new york is a'], ['tokyo', 'new york city is a'], ['tokyo', 'new york city is a'], ['tokyo', 'new york city is a'], ['tokyo', 'new york is a'], ['tokyo', 'new york city is a'], ['tokyo', 'new york is a'], ['tokyo', 'new york city is a'], ['tokyo', 'tokyo is a'], ['tokyo', 'new york is a'], ['tokyo', 'new york city is a'], ['tokyo', 'new york city is a'], ['tokyo', 'tokyo is a'], ['tokyo', 'new york is a'], ['tokyo', 'new york city is a'], ['tokyo', 'new york city is a'], ['tokyo', 'new york is a']], [['tokyo', 'bustling'], ['tokyo', 'bustling'], ['tokyo', 'magnificent'], ['tokyo', 'bustling'], ['tokyo', 'bustling'], ['tokyo', 'bustling'], ['tokyo', 'magnificent'], ['tokyo', 'global'], ['tokyo', 'bustling'], ['', ''], ['tokyo', 'bustling'], ['tokyo', 'bustling'], ['tokyo', 'bustling'], ['tokyo', 'vibrant'], ['tokyo', 'bustling'], ['tokyo', 'bustling'], ['tokyo', 'bustling'], ['tokyo', 'bustling'], ['tokyo', 'vibrant'], ['tokyo', 'bustling']], [['tokyo', 'destination'], ['tokyo', 'tourist destination'], ['tokyo', 'tourist destination'], ['tokyo', 'tourist destination'], ['tokyo', 'tourist destination'], ['tokyo', 'tourist destination'], ['tokyo', 'tourist destination'], ['tokyo', 'tourist destination'], ['tokyo', 'tourist destination'], ['tokyo', 'tourist destination'], ['tokyo', 'tourist destination'], ['tokyo', 'tourist destination'], ['tokyo', 'tourist destination'], ['tokyo', 'tourist destination'], ['tokyo', 'tourist destination'], ['tokyo', 'tourist destination'], ['tokyo', 'tourist destination'], ['tokyo', 'tourist destination'], ['tokyo', 'travel destination'], ['tokyo', 'travel destination']], [['tokyo', 'in'], ['tokyo', 'of'], ['tokyo', 'in'], ['tokyo', 'known around'], ['tokyo', 'in'], ['tokyo', 'in'], ['tokyo', 'in'], ['tokyo', 'in'], ['tokyo', 'in'], ['tokyo', 'in'], ['tokyo', 'in'], ['tokyo', '[mask]'], ['tokyo', 'of'], ['tokyo', 'in'], ['tokyo', 'in'], ['tokyo', 'in'], ['tokyo', 'in'], ['tokyo', 'in'], ['tokyo', 'in'], ['tokyo', 'in']], [['tokyo', 'asias'], ['tokyo', 'asian'], ['tokyo', 'asias'], ['tokyo', 'the east asian'], ['tokyo', 'asias'], ['tokyo', 'the east asian'], ['tokyo', 'asias'], ['tokyo', 'our'], ['tokyo', 'asias'], ['tokyo', 'our'], ['tokyo', 'east asias'], ['tokyo', 'asias'], ['', ''], ['tokyo', 'asias'], ['tokyo', 'our'], ['tokyo', 'asias'], ['tokyo', 'asias'], ['tokyo', 'our'], ['tokyo', 'asias'], ['tokyo', 'asias']], [['tokyo', 'asiapacific region'], ['tokyo', 'asiapacific region'], ['tokyo', 'east'], ['tokyo', 'kanto region'], ['tokyo', 'kantō region'], ['tokyo', 'asia region'], ['tokyo', '[asia]'], ['tokyo', 'east'], ['tokyo', 'kanto region'], ['tokyo', 'kanto region'], ['tokyo', 'east'], ['tokyo', 'east'], ['tokyo', 'asian continent'], ['tokyo', 'asiapacific region'], ['tokyo', 'east'], ['tokyo', 'kanto region'], ['tokyo', 'kanto region'], ['tokyo', 'asiapacific region'], ['tokyo', 'kanto region'], ['tokyo', 'asiapacific region']]]\n"
     ]
    }
   ],
   "source": [
    "\n",
    "# just overwring the response and sentence if you chose to change it. You can change it to your sentence and configurations.\n",
    "\n",
    "# load the responses from a file\n",
    "with open(\"responses_Japan.txt\", \"r\") as f:\n",
    "    all_responses = eval(f.read())\n",
    "\n",
    "sentence = \"tokyo is the capital city of japan and a popular metropolis in the world.\"\n",
    "anchor_word_idx = 0 # the index of the interested word\n",
    "prompts_per_word = 20 # number of generated responses  \n",
    "\n",
    "print(all_responses)"
   ]
  },
  {
   "cell_type": "code",
   "execution_count": 63,
   "metadata": {},
   "outputs": [
    {
     "name": "stdout",
     "output_type": "stream",
     "text": [
      "[[['tokyo', 'is'], ['tokyo', 'is'], ['tokyo', 'is'], ['tokyo', 'tokyo is'], ['tokyo', 'is'], ['tokyo', 'is'], ['tokyo', 'is'], ['tokyo', 'tokyo is'], ['tokyo', 'is'], ['tokyo', 'is'], ['tokyo', 'is'], ['tokyo', 'is'], ['tokyo', 'is'], ['tokyo', 'is'], ['tokyo', 'is'], ['tokyo', 'is'], ['tokyo', 'is'], ['tokyo', 'is'], ['tokyo', 'is'], ['tokyo', 'is']], [['tokyo', 'tokyos'], ['tokyo', 'tokyos'], ['tokyo', 'tokyos'], ['tokyo', 'the'], ['tokyo', 'tokyos'], ['', ''], ['', ''], ['tokyo', 'the'], ['tokyo', 'tokyos'], ['tokyo', 'the'], ['', ''], ['tokyo', 'the'], ['tokyo', 'tokyos'], ['', ''], ['tokyo', 'tokyos'], ['', ''], ['', ''], ['', ''], ['tokyo', 'tokyos'], ['', '']], [['tokyo', 'bustling metropolis of japan and a popular'], ['tokyo', 'largest'], ['tokyo', 'capital'], ['osaka', 'second largest'], ['tokyo', 'capital'], ['tokyo', 'vibrant'], ['osaka', 'second largest'], ['tokyo', 'capital'], ['tokyo', 'largest'], ['tokyo', 'most populous'], ['tokyo', 'largest'], ['tokyo', 'largest'], ['tokyo', 'capital'], ['tokyo', 'capital'], ['tokyo', 'bustling'], ['tokyo', 'capital'], ['tokyo', 'capital'], ['tokyo', 'bustling capital'], ['osaka', 'second largest'], ['tokyo', 'largest']], [['tokyo', 'city'], ['tokyo', ''], ['tokyo', 'city'], ['tokyo', 'city'], ['tokyo', 'tokyo'], ['tokyo', ''], ['tokyo', 'tokyo'], ['tokyo', 'city'], ['tokyo', ''], ['tokyo', 'tokyo'], ['tokyo', ''], ['tokyo', ''], ['tokyo', ''], ['tokyo', ''], ['tokyo', 'tokyo'], ['tokyo', ''], ['tokyo', ''], ['tokyo', 'city'], ['tokyo', 'city'], ['tokyo', 'tokyo']], [['tokyo', 'of'], ['tokyo', 'of'], ['tokyo', 'of'], ['tokyo', 'of'], ['tokyo', 'of'], ['tokyo', 'of'], ['tokyo', 'of'], ['tokyo', 'of'], ['tokyo', 'of'], ['tokyo', 'of'], ['tokyo', 'of'], ['tokyo', 'of'], ['tokyo', 'of'], ['tokyo', 'of'], ['tokyo', 'of'], ['tokyo', 'of'], ['tokyo', 'of'], ['tokyo', 'of'], ['tokyo', 'of'], ['tokyo', 'of']], [['paris', 'france'], ['tokyo', 'japan'], ['paris', 'france'], ['paris', 'france'], ['tokyo', 'japan'], ['tokyo', 'japan'], ['paris', 'france'], ['tokyo', 'japan'], ['tokyo', 'japan'], ['paris', 'france'], ['tokyo', 'japan'], ['tokyo', 'japan'], ['paris', 'france'], ['tokyo', 'japan'], ['tokyo', 'japan'], ['paris', 'france'], ['paris', 'france'], ['paris', 'france'], ['new delhi', 'india'], ['tokyo', 'japan']], [['tokyo', 'and'], ['tokyo', 'and'], ['tokyo', 'its'], ['tokyo', 'and it is'], ['tokyo', 'and its also'], ['tokyo', 'it is also'], ['tokyo', ''], ['tokyo', 'it is'], ['tokyo', 'it is'], ['tokyo', 'and'], ['tokyo', 'and it is'], ['tokyo', 'and'], ['tokyo', 'and it is'], ['tokyo', 'it is'], ['tokyo', 'and it is'], ['tokyo', 'it is'], ['tokyo', 'it is also'], ['tokyo', 'it is'], ['tokyo', 'and its'], ['tokyo', 'it is also']], [['tokyo', 'new york city is a'], ['tokyo', 'paris is a'], ['tokyo', 'new york city is a'], ['tokyo', 'new york is a'], ['tokyo', 'new york city is a'], ['tokyo', 'new york city is a'], ['tokyo', 'new york city is a'], ['tokyo', 'new york is a'], ['tokyo', 'new york city is a'], ['tokyo', 'new york is a'], ['tokyo', 'new york city is a'], ['tokyo', 'tokyo is a'], ['tokyo', 'new york is a'], ['tokyo', 'new york city is a'], ['tokyo', 'new york city is a'], ['tokyo', 'tokyo is a'], ['tokyo', 'new york is a'], ['tokyo', 'new york city is a'], ['tokyo', 'new york city is a'], ['tokyo', 'new york is a']], [['tokyo', 'bustling'], ['tokyo', 'bustling'], ['tokyo', 'magnificent'], ['tokyo', 'bustling'], ['tokyo', 'bustling'], ['tokyo', 'bustling'], ['tokyo', 'magnificent'], ['tokyo', 'global'], ['tokyo', 'bustling'], ['', ''], ['tokyo', 'bustling'], ['tokyo', 'bustling'], ['tokyo', 'bustling'], ['tokyo', 'vibrant'], ['tokyo', 'bustling'], ['tokyo', 'bustling'], ['tokyo', 'bustling'], ['tokyo', 'bustling'], ['tokyo', 'vibrant'], ['tokyo', 'bustling']], [['tokyo', 'destination'], ['tokyo', 'tourist destination'], ['tokyo', 'tourist destination'], ['tokyo', 'tourist destination'], ['tokyo', 'tourist destination'], ['tokyo', 'tourist destination'], ['tokyo', 'tourist destination'], ['tokyo', 'tourist destination'], ['tokyo', 'tourist destination'], ['tokyo', 'tourist destination'], ['tokyo', 'tourist destination'], ['tokyo', 'tourist destination'], ['tokyo', 'tourist destination'], ['tokyo', 'tourist destination'], ['tokyo', 'tourist destination'], ['tokyo', 'tourist destination'], ['tokyo', 'tourist destination'], ['tokyo', 'tourist destination'], ['tokyo', 'travel destination'], ['tokyo', 'travel destination']], [['tokyo', 'in'], ['tokyo', 'of'], ['tokyo', 'in'], ['tokyo', 'known around'], ['tokyo', 'in'], ['tokyo', 'in'], ['tokyo', 'in'], ['tokyo', 'in'], ['tokyo', 'in'], ['tokyo', 'in'], ['tokyo', 'in'], ['tokyo', '[mask]'], ['tokyo', 'of'], ['tokyo', 'in'], ['tokyo', 'in'], ['tokyo', 'in'], ['tokyo', 'in'], ['tokyo', 'in'], ['tokyo', 'in'], ['tokyo', 'in']], [['tokyo', 'asias'], ['tokyo', 'asian'], ['tokyo', 'asias'], ['tokyo', 'the east asian'], ['tokyo', 'asias'], ['tokyo', 'the east asian'], ['tokyo', 'asias'], ['tokyo', 'our'], ['tokyo', 'asias'], ['tokyo', 'our'], ['tokyo', 'east asias'], ['tokyo', 'asias'], ['', ''], ['tokyo', 'asias'], ['tokyo', 'our'], ['tokyo', 'asias'], ['tokyo', 'asias'], ['tokyo', 'our'], ['tokyo', 'asias'], ['tokyo', 'asias']], [['tokyo', 'asiapacific region'], ['tokyo', 'asiapacific region'], ['tokyo', 'east'], ['tokyo', 'kanto region'], ['tokyo', 'kantō region'], ['tokyo', 'asia region'], ['tokyo', '[asia]'], ['tokyo', 'east'], ['tokyo', 'kanto region'], ['tokyo', 'kanto region'], ['tokyo', 'east'], ['tokyo', 'east'], ['tokyo', 'asian continent'], ['tokyo', 'asiapacific region'], ['tokyo', 'east'], ['tokyo', 'kanto region'], ['tokyo', 'kanto region'], ['tokyo', 'asiapacific region'], ['tokyo', 'kanto region'], ['tokyo', 'asiapacific region']]]\n",
      "13\n",
      "[['tokyo', 'is'], ['tokyo', 'is'], ['tokyo', 'is'], ['tokyo', 'tokyo is'], ['tokyo', 'is'], ['tokyo', 'is'], ['tokyo', 'is'], ['tokyo', 'tokyo is'], ['tokyo', 'is'], ['tokyo', 'is'], ['tokyo', 'is'], ['tokyo', 'is'], ['tokyo', 'is'], ['tokyo', 'is'], ['tokyo', 'is'], ['tokyo', 'is'], ['tokyo', 'is'], ['tokyo', 'is'], ['tokyo', 'is'], ['tokyo', 'is']]\n",
      "20\n",
      "['tokyo', 'is']\n",
      "2\n",
      "[['tokyo', 'new york city is a'], ['tokyo', 'paris is a'], ['tokyo', 'new york city is a'], ['tokyo', 'new york is a'], ['tokyo', 'new york city is a'], ['tokyo', 'new york city is a'], ['tokyo', 'new york city is a'], ['tokyo', 'new york is a'], ['tokyo', 'new york city is a'], ['tokyo', 'new york is a'], ['tokyo', 'new york city is a'], ['tokyo', 'tokyo is a'], ['tokyo', 'new york is a'], ['tokyo', 'new york city is a'], ['tokyo', 'new york city is a'], ['tokyo', 'tokyo is a'], ['tokyo', 'new york is a'], ['tokyo', 'new york city is a'], ['tokyo', 'new york city is a'], ['tokyo', 'new york is a']]\n",
      "20\n",
      "['tokyo', 'new york city is a']\n",
      "2\n",
      "[['tokyo', 'and'], ['tokyo', 'and'], ['tokyo', 'its'], ['tokyo', 'and it is'], ['tokyo', 'and its also'], ['tokyo', 'it is also'], ['tokyo', ''], ['tokyo', 'it is'], ['tokyo', 'it is'], ['tokyo', 'and'], ['tokyo', 'and it is'], ['tokyo', 'and'], ['tokyo', 'and it is'], ['tokyo', 'it is'], ['tokyo', 'and it is'], ['tokyo', 'it is'], ['tokyo', 'it is also'], ['tokyo', 'it is'], ['tokyo', 'and its'], ['tokyo', 'it is also']]\n",
      "20\n",
      "['tokyo', 'and']\n",
      "2\n"
     ]
    },
    {
     "data": {
      "text/plain": [
       "'\\nprint(all_responses)\\nprint(len(all_responses))\\nprint(all_responses[8])\\nprint(len(all_responses[8]))\\nprint(all_responses[8][0])\\nprint(len(all_responses[8][0]))\\n'"
      ]
     },
     "execution_count": 63,
     "metadata": {},
     "output_type": "execute_result"
    }
   ],
   "source": [
    "print(all_responses)\n",
    "print(len(all_responses))\n",
    "print(all_responses[0])\n",
    "print(len(all_responses[0]))\n",
    "print(all_responses[0][0])\n",
    "print(len(all_responses[0][0]))\n",
    "\n",
    "\n",
    "print(all_responses[7])\n",
    "print(len(all_responses[7]))\n",
    "print(all_responses[7][0])\n",
    "print(len(all_responses[7][0]))\n",
    "\n",
    "\n",
    "\n",
    "print(all_responses[6])\n",
    "print(len(all_responses[6]))\n",
    "print(all_responses[6][0])\n",
    "print(len(all_responses[6][0]))\n",
    "\n",
    "# out of range because the sentence has 9 words, but this is exclusive the original masked word word\n",
    "\"\"\"\n",
    "print(all_responses)\n",
    "print(len(all_responses))\n",
    "print(all_responses[8])\n",
    "print(len(all_responses[8]))\n",
    "print(all_responses[8][0])\n",
    "print(len(all_responses[8][0]))\n",
    "\"\"\" "
   ]
  },
  {
   "cell_type": "markdown",
   "metadata": {},
   "source": [
    "### 3.4 EXERCISE: compute the PMI for each word\n",
    "\n",
    "$PMI(x,y)=log_2⁡ \\frac{p(\\{x,y\\}| s-\\{x,y\\})}{P(\\{x\\}|s-\\{x,y\\})P(\\{y\\}|s-\\{x,y\\})}$\n",
    "\n",
    "* Compute the $P(x)$, $P(y)$ and $P(x,y)$ first and print it out.\n",
    "* Compute the PMI for each word.\n",
    "* Visualize the result by coloring. Tips: you might need to normalize the result first. \n"
   ]
  },
  {
   "cell_type": "code",
   "execution_count": 64,
   "metadata": {},
   "outputs": [
    {
     "name": "stdout",
     "output_type": "stream",
     "text": [
      "['tokyo', 'is', 'the', 'capital', 'city', 'of', 'japan', 'and', 'a', 'popular', 'metropolis', 'in', 'the', 'world.']\n",
      "tokyo\n",
      "['is', 'the', 'capital', 'city', 'of', 'japan', 'and', 'a', 'popular', 'metropolis', 'in', 'the', 'world.']\n"
     ]
    }
   ],
   "source": [
    "sentence_split = sentence.split()\n",
    "true_x = sentence_split[anchor_word_idx]\n",
    "print(sentence_split)\n",
    "print(true_x)\n",
    "sentence_split_masked_x = sentence_split.copy()\n",
    "sentence_split_masked_x.pop(anchor_word_idx)\n",
    "print(sentence_split_masked_x)"
   ]
  },
  {
   "cell_type": "code",
   "execution_count": 65,
   "metadata": {},
   "outputs": [
    {
     "name": "stdout",
     "output_type": "stream",
     "text": [
      "{0: 0.9, 1: 0.2, 2: 0.35, 3: 0.3, 4: 1.0, 5: 0.5, 6: 0.2, 7: 1e-10, 8: 1e-10, 9: 1e-10, 10: 0.8, 11: 1e-10, 12: 1e-10}\n",
      "{0: 1.0, 1: 0.6, 2: 0.85, 3: 1.0, 4: 1.0, 5: 0.5, 6: 1.0, 7: 1.0, 8: 0.95, 9: 1.0, 10: 1.0, 11: 0.95, 12: 1.0}\n",
      "{0: 0.9, 1: 0.2, 2: 0.35, 3: 0.3, 4: 1.0, 5: 0.5, 6: 0.2, 7: 1e-10, 8: 1e-10, 9: 1e-10, 10: 0.8, 11: 1e-10, 12: 1e-10}\n",
      "{0: 0.0, 1: 0.7369655941662062, 2: 0.23446525363702297, 3: 0.0, 4: 0.0, 5: 1.0, 6: 0.0, 7: -33.219280948873624, 8: -33.219280948873624, 9: -33.219280948873624, 10: 0.0, 11: -33.219280948873624, 12: -33.219280948873624}\n"
     ]
    }
   ],
   "source": [
    "# Your code here. You are more than welcome to build .py file and run with that.\n",
    "\n",
    "P_x = {}\n",
    "P_y = {}\n",
    "P_x_y = {}\n",
    "PMI = {}\n",
    "epsilon = 1e-10\n",
    "\n",
    "\n",
    "for i in range(len(all_responses)):\n",
    "    true_y = sentence_split_masked_x[i]\n",
    "    #print(f'true_x: {true_x}')\n",
    "    #print(f'true_y: {true_y}')\n",
    "    P_x[i] = 0\n",
    "    P_y[i] = 0\n",
    "    P_x_y[i] = 0\n",
    "    for j in range(len(all_responses[i])):\n",
    "        #print(j)\n",
    "        #print(all_responses[i][j][0])\n",
    "        #print(all_responses[i][j][1])\n",
    "        if i < anchor_word_idx:\n",
    "            if all_responses[i][j][1] == true_x:\n",
    "                P_x[i] += 1\n",
    "            if all_responses[i][j][0] == true_y:\n",
    "                P_y[i] += 1\n",
    "            if all_responses[i][j][1] == true_x and all_responses[i][j][0] == true_y:\n",
    "                P_x_y[i] += 1\n",
    "        else:\n",
    "            if all_responses[i][j][0] == true_x:\n",
    "                P_x[i] += 1\n",
    "            if all_responses[i][j][1] == true_y:\n",
    "                P_y[i] += 1\n",
    "            if all_responses[i][j][0] == true_x and all_responses[i][j][1] == true_y:\n",
    "                P_x_y[i] += 1\n",
    "            \n",
    "    P_x[i] = P_x[i]/len(all_responses[i])\n",
    "    P_y[i] = P_y[i]/len(all_responses[i])\n",
    "    P_x_y[i] = P_x_y[i]/len(all_responses[i])\n",
    "\n",
    "    if P_x[i] == 0:\n",
    "        P_x[i] = epsilon\n",
    "    if P_y[i] == 0:\n",
    "        P_y[i] = epsilon\n",
    "    if P_x_y[i] == 0:\n",
    "        P_x_y[i] = epsilon\n",
    "\n",
    "    if P_x_y[i] != epsilon:\n",
    "        if P_x[i] != epsilon and P_y[i] != epsilon:\n",
    "            PMI[i] = np.log2(P_x_y[i]/(P_x[i]*P_y[i]))\n",
    "        else:\n",
    "            PMI[i] = np.log2(P_x_y[i]/epsilon)\n",
    "    else:\n",
    "        PMI[i] = np.log2(P_x_y[i])\n",
    "        \n",
    "print(P_x_y)\n",
    "print(P_x)\n",
    "print(P_y)\n",
    "\n",
    "print(PMI)\n"
   ]
  },
  {
   "cell_type": "markdown",
   "metadata": {},
   "source": [
    "\n",
    "## 4. EXERCISE: Try more examples; maybe come up with your own. Report the results.\n",
    "\n",
    "* Try to come up with more examples and, change the anchor word/number of responses, and observe the results. What does the explanation mean? Do you think it's a nice explanation? Why and why not? \n",
    "* What's the limitation of the current method? When does the method fail to explain? "
   ]
  },
  {
   "cell_type": "markdown",
   "metadata": {},
   "source": [
    "## 5. Bonus Exercises\n",
    "### 5.1 Language pre-processing. \n",
    "In this exercise, we only lower the letters and split sentences into words; there's much more to do to pre-process the language. For example, contractions (*I'll*, *She's*, *world's*), suffix and prefix, compound words (*hard-working*). It's called word tokenization in NLP, and there are some Python packages that can do such work for us, e.g. [*TextBlob*](https://textblob.readthedocs.io/en/dev/). \n",
    "\n",
    "\n",
    "### 5.2 Better word matching\n",
    "In the above example of\n",
    "> Tokyo is the capital of Japan and a popular metropolis in the world.\n",
    "\n",
    ", GenAI never gives the specific word 'metropolis' when masking it out; instead, sometimes it provides words like 'city', which is not the same word but has a similar meaning. Instead of measuring the exact matching of certain words (i.e. 0 or 1), we can also measure the similarity of two words, e.g. the cosine similarity in word embedding, which ranges from 0 to 1. "
   ]
  }
 ],
 "metadata": {
  "kernelspec": {
   "display_name": "xai_llm",
   "language": "python",
   "name": "python3"
  },
  "language_info": {
   "codemirror_mode": {
    "name": "ipython",
    "version": 3
   },
   "file_extension": ".py",
   "mimetype": "text/x-python",
   "name": "python",
   "nbconvert_exporter": "python",
   "pygments_lexer": "ipython3",
   "version": "3.9.20"
  }
 },
 "nbformat": 4,
 "nbformat_minor": 2
}
